{
  "cells": [
    {
      "metadata": {
        "_uuid": "724c5aeb83b0d7c201acf0274e74bea4e6056a8c"
      },
      "cell_type": "markdown",
      "source": "使用了多種Model來進行資料的預測\n\n最後繳交的版本是參考網路上CNN的Model"
    },
    {
      "metadata": {
        "id": "nC-Q6oG6D8kd",
        "colab_type": "text",
        "_uuid": "e61cfc9c8cb66e7c4ea8d535bbdb1f7df2128cf0"
      },
      "cell_type": "markdown",
      "source": "# 前置處理"
    },
    {
      "metadata": {
        "trusted": true,
        "collapsed": true,
        "_uuid": "4b85a7448092b12c85fda4f2cebb85043f93cff7"
      },
      "cell_type": "code",
      "source": "default_path = '../input/'",
      "execution_count": null,
      "outputs": []
    },
    {
      "metadata": {
        "id": "3KR_S3gQU02z",
        "colab_type": "code",
        "colab": {},
        "trusted": true,
        "_uuid": "4bb56174630e12f94a5ce2c4cbe2b79553cce1fd",
        "collapsed": true
      },
      "cell_type": "code",
      "source": "import pandas as pd\ntrain_csv = pd.read_csv(default_path+'train.csv')\ntest_csv = pd.read_csv(default_path+'test.csv')",
      "execution_count": null,
      "outputs": []
    },
    {
      "metadata": {
        "id": "HV1gOtY4WNvw",
        "colab_type": "code",
        "colab": {
          "base_uri": "https://localhost:8080/",
          "height": 34
        },
        "outputId": "f14dfff6-2831-4b87-d866-b7502327184a",
        "trusted": true,
        "_uuid": "fc5fb6521ffae97b3f3bcb8034a2f65e2ead541e",
        "collapsed": true
      },
      "cell_type": "code",
      "source": "import numpy as np\nfrom sklearn.model_selection import train_test_split\ntraining_data = np.array(train_csv)\ntesting_data = np.array(test_csv)\n#print(training_data.shape, testing_data.shape)\n\nfeature = training_data[:, 1:]\nlabel = training_data[:, :1]\n\nX_train, X_test, y_train, y_test = train_test_split(feature, label, test_size = 0.2, stratify=label)\nprint(X_train.shape, y_train.shape, X_test.shape, y_test.shape)",
      "execution_count": null,
      "outputs": []
    },
    {
      "metadata": {
        "id": "QeRvxYgCLRDw",
        "colab_type": "code",
        "colab": {
          "base_uri": "https://localhost:8080/",
          "height": 395
        },
        "outputId": "e0dadc76-0ca3-49bf-83fc-ff2bca5f67b9",
        "trusted": true,
        "_uuid": "6afa36711fd54102a57583584f9b84ed29f4ed6f",
        "collapsed": true
      },
      "cell_type": "code",
      "source": "import seaborn as sns\nsns.set(style='white')\ng = sns.countplot(train_csv['label'])",
      "execution_count": null,
      "outputs": []
    },
    {
      "metadata": {
        "id": "wKzlcIuCECsq",
        "colab_type": "text",
        "_uuid": "1b791f4fedbcbb0247c7c5527aaf188a3ecd3b88"
      },
      "cell_type": "markdown",
      "source": "## KNNClassifier"
    },
    {
      "metadata": {
        "id": "JbeTFrbBYW8l",
        "colab_type": "code",
        "colab": {
          "base_uri": "https://localhost:8080/",
          "height": 105
        },
        "outputId": "da365ff4-a27e-4bbe-ac38-a94547b9f57b",
        "trusted": false,
        "collapsed": true,
        "_uuid": "6267ce1419dc47db0d2bfa4d3c0476ce6e52b208"
      },
      "cell_type": "code",
      "source": "from sklearn.neighbors import KNeighborsClassifier\nKNN = KNeighborsClassifier(n_neighbors=10)\nKNN.fit(X_train, y_train)\nprint(KNN.predict(X_test[:10]).shape,  y_test[:10].flatten())\n\nprint(X_test[:10].shape)\n\n#KNN.score(KNN.predict(X_test[:10]), y_test[:10].flatten())",
      "execution_count": null,
      "outputs": []
    },
    {
      "metadata": {
        "id": "g1sTCm-6ZYQd",
        "colab_type": "code",
        "colab": {
          "base_uri": "https://localhost:8080/",
          "height": 34
        },
        "outputId": "25c3887d-b115-44b9-f231-2e8765c84d48",
        "trusted": false,
        "collapsed": true,
        "_uuid": "9524f43ff130082e831beaedbf00243ebb313a45"
      },
      "cell_type": "code",
      "source": "prediction = KNN.predict(X_test)\nfrom sklearn.metrics import accuracy_score\nprint(accuracy_score(y_test, prediction))",
      "execution_count": null,
      "outputs": []
    },
    {
      "metadata": {
        "id": "GHO1mvNWo6dS",
        "colab_type": "code",
        "colab": {
          "base_uri": "https://localhost:8080/",
          "height": 34
        },
        "outputId": "3cda656a-2720-473f-d117-481db521e0d2",
        "trusted": false,
        "collapsed": true,
        "_uuid": "5037c51e0a28c47b140f65ac66e33fce929b1c72"
      },
      "cell_type": "code",
      "source": "prediction_test = KNN.predict(testing_data)\nprediction_test",
      "execution_count": null,
      "outputs": []
    },
    {
      "metadata": {
        "id": "h9G73DGwA1sv",
        "colab_type": "code",
        "colab": {
          "base_uri": "https://localhost:8080/",
          "height": 2000
        },
        "outputId": "6268ccd8-581c-4cad-b50b-b54ffaba560d",
        "trusted": false,
        "collapsed": true,
        "_uuid": "a8d80ac54815a72bd9574fa833ea5491fe5cf4f5"
      },
      "cell_type": "code",
      "source": "result = pd.DataFrame(prediction_test)\nresult.index += 1\nresult.index.name = 'ImageId'\nresult.columns = ['Label']\nresult.to_csv('results_KNN.csv',header=True)\nresult",
      "execution_count": null,
      "outputs": []
    },
    {
      "metadata": {
        "id": "Z1L_LA-FCDPM",
        "colab_type": "code",
        "colab": {
          "base_uri": "https://localhost:8080/",
          "height": 302
        },
        "outputId": "7736e60a-66bd-4580-eb14-195cbe046761",
        "trusted": false,
        "collapsed": true,
        "_uuid": "0996094147785856b8fcab893ba4a07965d02b52"
      },
      "cell_type": "code",
      "source": "from google.colab import files\nfiles.download('results_KNN.csv')",
      "execution_count": null,
      "outputs": []
    },
    {
      "metadata": {
        "id": "cim7xBIDEGBa",
        "colab_type": "text",
        "_uuid": "b9a154ceabdc0ca28995cf1b5219a0415e40d36e"
      },
      "cell_type": "markdown",
      "source": "## SVC"
    },
    {
      "metadata": {
        "id": "LC3Y5zMqLEnN",
        "colab_type": "code",
        "colab": {
          "base_uri": "https://localhost:8080/",
          "height": 34
        },
        "outputId": "01b4ee4b-8f9b-44d3-fb3a-e615ee2c5098",
        "trusted": false,
        "collapsed": true,
        "_uuid": "426fcdf788d6463b24c84900a467565e8d147fc5"
      },
      "cell_type": "code",
      "source": "from sklearn.svm import SVC\nSVC = SVC(kernel = 'poly').fit(X_train, y_train.ravel())\nSVC.score(X_test[:1000], y_test[:1000])",
      "execution_count": null,
      "outputs": []
    },
    {
      "metadata": {
        "id": "ACUV7xlUMmvu",
        "colab_type": "code",
        "colab": {
          "base_uri": "https://localhost:8080/",
          "height": 2000
        },
        "outputId": "4ee769bd-9ca6-4fc8-a039-fa98c40d432f",
        "trusted": false,
        "collapsed": true,
        "_uuid": "18aa2984e6c53f9748007032767650172a798493"
      },
      "cell_type": "code",
      "source": "result = pd.DataFrame(SVC.predict(testing_data))\nresult.index += 1\nresult.index.name = 'ImageId'\nresult.columns = ['Label']\nresult.to_csv('results_SVC.csv',header=True)\nresult",
      "execution_count": null,
      "outputs": []
    },
    {
      "metadata": {
        "id": "pB9Itz_bvQ6A",
        "colab_type": "code",
        "colab": {},
        "trusted": false,
        "collapsed": true,
        "_uuid": "746a62181df3a26d89e72d390072941849b9662e"
      },
      "cell_type": "code",
      "source": "from google.colab import files\nfiles.download('results_SVC.csv')",
      "execution_count": null,
      "outputs": []
    },
    {
      "metadata": {
        "id": "W6dFtw9ddbe5",
        "colab_type": "text",
        "_uuid": "d45919f9e26f344b0c83a813f9fd4fb1a5dbbd39"
      },
      "cell_type": "markdown",
      "source": "## AdaBoost"
    },
    {
      "metadata": {
        "id": "CuNIiIlydfIM",
        "colab_type": "code",
        "colab": {
          "base_uri": "https://localhost:8080/",
          "height": 88
        },
        "outputId": "3e6ac235-59ee-484e-bc8b-b3742294edd4",
        "trusted": false,
        "collapsed": true,
        "_uuid": "c42b481aae93b5c25cd7a59169a0115af4a699d3"
      },
      "cell_type": "code",
      "source": "from sklearn import ensemble\nAdaBoost = ensemble.AdaBoostClassifier(n_estimators=200, learning_rate=0.1).fit(X_train[:5000], y_train[:5000])\nAdaBoost.score(X_test[:1000], y_test[:1000])",
      "execution_count": null,
      "outputs": []
    },
    {
      "metadata": {
        "id": "yZwAWT0TTzGH",
        "colab_type": "text",
        "_uuid": "1c34aa90c1c1d720ccee6130508fa9815f56e888"
      },
      "cell_type": "markdown",
      "source": "## Bagging"
    },
    {
      "metadata": {
        "id": "SOu0eQqST131",
        "colab_type": "code",
        "colab": {
          "base_uri": "https://localhost:8080/",
          "height": 88
        },
        "outputId": "02e90f62-21d9-4cae-da68-ba9257656ddf",
        "trusted": false,
        "collapsed": true,
        "_uuid": "e109e56ba52e43e4ce25d28a7a65c8b3f718408b"
      },
      "cell_type": "code",
      "source": "Bagging = ensemble.BaggingClassifier(n_estimators=200).fit(X_train[:5000], y_train[:5000])\nBagging.score(X_test[:1000], y_test[:1000])",
      "execution_count": null,
      "outputs": []
    },
    {
      "metadata": {
        "id": "CFYsmrXmuqhB",
        "colab_type": "text",
        "_uuid": "4c7cc28529b58a489b4cda729b1a73994efc2fd3"
      },
      "cell_type": "markdown",
      "source": "## Random Forst"
    },
    {
      "metadata": {
        "id": "348MYACCutAO",
        "colab_type": "code",
        "colab": {
          "base_uri": "https://localhost:8080/",
          "height": 88
        },
        "outputId": "1e8f2d61-19c4-4115-8de6-1b153a6e11ce",
        "trusted": false,
        "collapsed": true,
        "_uuid": "62b9213614ca8a615142a09bf705e37ae16bfd1d"
      },
      "cell_type": "code",
      "source": "from sklearn import ensemble\nRandomForst = ensemble.RandomForestClassifier(n_estimators=50).fit(X_train, y_train)\nRandomForst.score(X_test, y_test)",
      "execution_count": null,
      "outputs": []
    },
    {
      "metadata": {
        "id": "nuyq8-vCYOp5",
        "colab_type": "text",
        "_uuid": "af2e8c621cf33996545649b2d7f3e615dbef8690"
      },
      "cell_type": "markdown",
      "source": "## Naive Bayes"
    },
    {
      "metadata": {
        "id": "qhyfNdLMTqh3",
        "colab_type": "code",
        "colab": {
          "base_uri": "https://localhost:8080/",
          "height": 88
        },
        "outputId": "aa628323-c1e0-45fa-de95-bc2548e8efd7",
        "trusted": false,
        "collapsed": true,
        "_uuid": "e6a8ad78e8e39f03f8cd493e55bcfe6a273138b7"
      },
      "cell_type": "code",
      "source": "from sklearn.naive_bayes import MultinomialNB\nNB = MultinomialNB().fit(X_train, y_train)\nNB.score(X_test[:1000], y_test[:1000])",
      "execution_count": null,
      "outputs": []
    },
    {
      "metadata": {
        "id": "ag_cpcteyKgy",
        "colab_type": "text",
        "_uuid": "ae65a05fab8a836621b3c9974cde4a61c232fdbd"
      },
      "cell_type": "markdown",
      "source": "## CNN\nreference: [Introduction to CNN Keras - Acc 0.997 (top 8%)](https://www.kaggle.com/yassineghouzam/introduction-to-cnn-keras-0-997-top-6)"
    },
    {
      "metadata": {
        "id": "1GMyL2AByN6i",
        "colab_type": "code",
        "colab": {
          "base_uri": "https://localhost:8080/",
          "height": 34
        },
        "outputId": "e6ae3bab-1049-4e5b-d3d9-5a5d75237e27",
        "trusted": true,
        "_uuid": "a3295ed33d8c46904990747121a0441e205f9419",
        "collapsed": true
      },
      "cell_type": "code",
      "source": "# check if any missing value\ntrain_csv.isnull().any().any()",
      "execution_count": null,
      "outputs": []
    },
    {
      "metadata": {
        "id": "RhYiylE981o1",
        "colab_type": "code",
        "colab": {
          "base_uri": "https://localhost:8080/",
          "height": 51
        },
        "outputId": "6330837e-1369-40b9-870f-39c17fb37798",
        "trusted": true,
        "_uuid": "986506aeb5c902dbc9e81d231cc256f6d752bb66",
        "collapsed": true
      },
      "cell_type": "code",
      "source": "# Normalization\nfrom sklearn.preprocessing import MinMaxScaler\nscaler = MinMaxScaler()\nX_train = scaler.fit_transform(X_train)\nX_test = scaler.transform(X_test)",
      "execution_count": null,
      "outputs": []
    },
    {
      "metadata": {
        "id": "WPsaI73wKm4r",
        "colab_type": "code",
        "colab": {},
        "trusted": true,
        "collapsed": true,
        "_uuid": "60cd797d439af1c33cf681f86e94fda0cd2026da"
      },
      "cell_type": "code",
      "source": "# Reshape\nX_train = X_train.reshape(-1, 28, 28, 1)\nX_test = X_test.reshape(-1, 28, 28,1)",
      "execution_count": null,
      "outputs": []
    },
    {
      "metadata": {
        "id": "f4GEMNWmLgDv",
        "colab_type": "code",
        "colab": {},
        "trusted": true,
        "_uuid": "7bd9eafce00a05a3f7a1f9f6979e49cd6b874532",
        "collapsed": true
      },
      "cell_type": "code",
      "source": "# One-hot encoding\nfrom keras.utils import to_categorical\ny_train_oneHot = to_categorical(y_train, num_classes= 10)\ny_test_oneHot = to_categorical(y_test, num_classes=10)",
      "execution_count": null,
      "outputs": []
    },
    {
      "metadata": {
        "id": "kufkVdt4OZzo",
        "colab_type": "code",
        "colab": {
          "base_uri": "https://localhost:8080/",
          "height": 2873
        },
        "outputId": "61f84ff9-47f2-4cfc-dd75-93692d7e68b8",
        "trusted": true,
        "_uuid": "54d80689fc4ec3965a83144f96ecd99dd46e86b0",
        "collapsed": true
      },
      "cell_type": "code",
      "source": "#X_train[0][:, :, 0]",
      "execution_count": null,
      "outputs": []
    },
    {
      "metadata": {
        "id": "R9KdP1dMLhLN",
        "colab_type": "code",
        "colab": {
          "base_uri": "https://localhost:8080/",
          "height": 364
        },
        "outputId": "91159534-ee60-43f9-85b5-50a1cc8979c2",
        "trusted": true,
        "_uuid": "221290d0571c51296f4c710d001368bd2a4d4bec",
        "collapsed": true
      },
      "cell_type": "code",
      "source": "import matplotlib.pyplot as plt\nplt.imshow(X_train[0][:, :, 0])",
      "execution_count": null,
      "outputs": []
    },
    {
      "metadata": {
        "id": "rbodQrgXLhlU",
        "colab_type": "code",
        "colab": {
          "base_uri": "https://localhost:8080/",
          "height": 442
        },
        "outputId": "decd9cf5-da4f-44d5-c4e8-53a868fd5dd7",
        "trusted": true,
        "_uuid": "ac76246f932279987fcb3da50519f721c6c026ce",
        "collapsed": true
      },
      "cell_type": "code",
      "source": "from keras.layers import Convolution2D, Dense, MaxPooling2D, Dropout, Flatten\nfrom keras.models import Sequential\n\nmodel = Sequential()\nmodel.add(Convolution2D(filters=32, kernel_size=(5, 5), padding='same', input_shape = (28, 28, 1), activation='relu'))\nmodel.add(MaxPooling2D(pool_size=(2, 2)))\nmodel.add(Convolution2D(filters=64, kernel_size=(5, 5), padding='same', activation='relu'))       \nmodel.add(MaxPooling2D(pool_size=(2, 2)))\nmodel.add(Dropout(0.3))\nmodel.add(Flatten())\n\nmodel.add(Dense(units=256, activation='relu',))\nmodel.add(Dropout(0.3))\nmodel.add(Dense(units=10, activation='softmax'))\n\nmodel.summary()",
      "execution_count": null,
      "outputs": []
    },
    {
      "metadata": {
        "id": "qdbLpyvSuqPU",
        "colab_type": "text",
        "_uuid": "e1e585a2c061f5a2018291d005cf5b6d6bd0a735"
      },
      "cell_type": "markdown",
      "source": "### Different optimizer\nChoose one to execute"
    },
    {
      "metadata": {
        "id": "WkmwuV4ISgEs",
        "colab_type": "code",
        "colab": {
          "base_uri": "https://localhost:8080/",
          "height": 221
        },
        "outputId": "7a6cca8a-02a2-4b65-d309-300029d852a6",
        "trusted": true,
        "collapsed": true,
        "_uuid": "adbdaff609ae361d11c1e1e77d2d84cefef63431"
      },
      "cell_type": "code",
      "source": "# optimizer = 'adam'\nmodel.compile(optimizer='adam', loss = 'categorical_crossentropy', metrics=['accuracy'])",
      "execution_count": null,
      "outputs": []
    },
    {
      "metadata": {
        "id": "eijKvS1_umjl",
        "colab_type": "code",
        "colab": {},
        "trusted": true,
        "collapsed": true,
        "_uuid": "6506dc0f1f520d2b685a9dee82b71d68a36d041d"
      },
      "cell_type": "code",
      "source": "# optimizer = 'RMSprop'\nmodel.compile(optimizer='RMSprop', loss = 'categorical_crossentropy', metrics=['accuracy'])",
      "execution_count": null,
      "outputs": []
    },
    {
      "metadata": {
        "id": "xcdb7xhxuwJz",
        "colab_type": "text",
        "_uuid": "29f0aedfd4a1caaf596eb243bb153871a490a62f"
      },
      "cell_type": "markdown",
      "source": "### ."
    },
    {
      "metadata": {
        "id": "N0BCwoITzHPK",
        "colab_type": "code",
        "colab": {
          "base_uri": "https://localhost:8080/",
          "height": 234
        },
        "outputId": "947e9c9a-1917-437a-cb68-e8eae0ec1d88",
        "trusted": true,
        "collapsed": true,
        "_uuid": "12cc157e15848b8ab7502ebb3e5e9469d0d9d31e"
      },
      "cell_type": "code",
      "source": "from keras.callbacks import ReduceLROnPlateau\n# To keep the advantage of the fast computation time with a high LR, i decreased the LR dynamically every X steps (epochs) depending if it is necessary (when accuracy is not improved).\n# With the ReduceLROnPlateau function from Keras.callbacks, i choose to reduce the LR by half if the accuracy is not improved after 3 epochs.\n\n# Set a learning rate annealer\nlearning_rate_reduction = ReduceLROnPlateau(monitor='val_acc', \n                                            patience=3, \n                                            verbose=1, \n                                            factor=0.5, \n                                            min_lr=0.00001)",
      "execution_count": null,
      "outputs": []
    },
    {
      "metadata": {
        "id": "frMQWGbHzX9A",
        "colab_type": "code",
        "colab": {
          "base_uri": "https://localhost:8080/",
          "height": 119
        },
        "outputId": "28c17728-a278-40ec-a575-902eb3f9e018",
        "trusted": true,
        "_uuid": "a08a61b53d7466a5190ee9a0a0b4b2de042b7af0",
        "collapsed": true
      },
      "cell_type": "code",
      "source": "#model.fit(X_train, y_train_oneHot, batch_size=256, epochs=10,verbose=1, validation_split=0.2, callbacks=[learning_rate_reduction])\nmodel.fit(X_train, y_train_oneHot, batch_size=256, epochs=10,verbose=1, validation_split=0.2)",
      "execution_count": null,
      "outputs": []
    },
    {
      "metadata": {
        "trusted": true,
        "collapsed": true,
        "_uuid": "8625281f6b2e94b975a71175feda9e0cb3ff87dc"
      },
      "cell_type": "code",
      "source": "",
      "execution_count": null,
      "outputs": []
    },
    {
      "metadata": {
        "trusted": true,
        "collapsed": true,
        "_uuid": "260197e13666e707d967ddaeb7462407c2a1e169"
      },
      "cell_type": "code",
      "source": "from keras.preprocessing.image import ImageDataGenerator\n# I did not apply a vertical_flip nor horizontal_flip since it could have lead to misclassify symetrical numbers such as 6 and 9.\n\ndatagen = ImageDataGenerator(\n        featurewise_center=False,  # set input mean to 0 over the dataset\n        samplewise_center=False,  # set each sample mean to 0\n        featurewise_std_normalization=False,  # divide inputs by std of the dataset\n        samplewise_std_normalization=False,  # divide each input by its std\n        zca_whitening=False,  # apply ZCA whitening\n        rotation_range=15,  # randomly rotate images in the range (degrees, 0 to 180)\n        zoom_range = 0.1, # Randomly zoom image \n        width_shift_range=0.2,  # randomly shift images horizontally (fraction of total width)\n        height_shift_range=0.2,  # randomly shift images vertically (fraction of total height)\n        horizontal_flip=False,  # randomly flip images\n        vertical_flip=False)  # randomly flip images\ndatagen.fit(X_train)\n\n",
      "execution_count": null,
      "outputs": []
    },
    {
      "metadata": {
        "trusted": true,
        "_uuid": "b56523a67bb04aa24c1dbf03a4a294e47d328b23",
        "collapsed": true
      },
      "cell_type": "code",
      "source": "# Fit the model\nhistory = model.fit_generator(datagen.flow(X_train, y_train_oneHot, batch_size=128),\n                              epochs = 50, validation_data=(X_test, y_test_oneHot),\n                              verbose = 1, steps_per_epoch=X_train.shape[0]/128, \n                              callbacks=[learning_rate_reduction])",
      "execution_count": null,
      "outputs": []
    },
    {
      "metadata": {
        "trusted": true,
        "collapsed": true,
        "_uuid": "afd9d7a3d284691a7654ce636df36f8e8d0f7985"
      },
      "cell_type": "code",
      "source": "",
      "execution_count": null,
      "outputs": []
    },
    {
      "metadata": {
        "trusted": true,
        "_uuid": "9f02621705242f54576d2921bc8f7b4fd91c0fa4",
        "collapsed": true
      },
      "cell_type": "code",
      "source": "model.evaluate(X_test, y_test_oneHot)",
      "execution_count": null,
      "outputs": []
    },
    {
      "metadata": {
        "id": "eVnNsyp3b3IU",
        "colab_type": "code",
        "colab": {},
        "trusted": true,
        "_uuid": "5bdbfb5107ae3bdf887d49470c769dd92830e944",
        "collapsed": true
      },
      "cell_type": "code",
      "source": "testing_data = scaler.transform(testing_data).reshape(-1, 28, 28, 1)\nCNN_prediction = model.predict_classes(testing_data)",
      "execution_count": null,
      "outputs": []
    },
    {
      "metadata": {
        "id": "A4wRKRD_cXaS",
        "colab_type": "code",
        "colab": {
          "base_uri": "https://localhost:8080/",
          "height": 235
        },
        "outputId": "59afbaf0-f462-4b2f-df10-1e9ffaed7825",
        "trusted": true,
        "_uuid": "43d7b1912d352378d18729744891a1e6461b81e4",
        "collapsed": true
      },
      "cell_type": "code",
      "source": "result = pd.DataFrame(CNN_prediction)\nresult.index += 1\nresult.index.name = 'ImageId'\nresult.columns = ['Label']\nresult.to_csv('results_CNN_.csv',header=True)\nresult.head()",
      "execution_count": null,
      "outputs": []
    }
  ],
  "metadata": {
    "colab": {
      "name": "MNIST in KAGGLE",
      "version": "0.3.2",
      "provenance": []
    },
    "kernelspec": {
      "display_name": "Python 3",
      "language": "python",
      "name": "python3"
    },
    "accelerator": "GPU",
    "language_info": {
      "name": "python",
      "version": "3.6.4",
      "mimetype": "text/x-python",
      "codemirror_mode": {
        "name": "ipython",
        "version": 3
      },
      "pygments_lexer": "ipython3",
      "nbconvert_exporter": "python",
      "file_extension": ".py"
    }
  },
  "nbformat": 4,
  "nbformat_minor": 1
}