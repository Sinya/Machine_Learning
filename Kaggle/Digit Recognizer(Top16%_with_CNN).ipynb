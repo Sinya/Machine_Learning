{
  "cells": [
    {
      "metadata": {
        "_uuid": "8f2839f25d086af736a60e9eeb907d3b93b6e0e5",
        "_cell_guid": "b1076dfc-b9ad-4769-8c92-a6c4dae69d19",
        "trusted": true,
        "collapsed": true
      },
      "cell_type": "code",
      "source": "# This Python 3 environment comes with many helpful analytics libraries installed\n# It is defined by the kaggle/python docker image: https://github.com/kaggle/docker-python\n# For example, here's several helpful packages to load in \n\nimport numpy as np # linear algebra\nimport pandas as pd # data processing, CSV file I/O (e.g. pd.read_csv)\n\n# Input data files are available in the \"../input/\" directory.\n# For example, running this (by clicking run or pressing Shift+Enter) will list the files in the input directory\n\nimport os\nprint(os.listdir(\"../input\"))\n\n# Any results you write to the current directory are saved as output.",
      "execution_count": null,
      "outputs": []
    },
    {
      "metadata": {
        "_cell_guid": "79c7e3d0-c299-4dcb-8224-4455121ee9b0",
        "_uuid": "d629ff2d2480ee46fbb7e2d37f6b5fab8052498a",
        "trusted": true,
        "collapsed": true
      },
      "cell_type": "code",
      "source": "default_path = '../input/'",
      "execution_count": null,
      "outputs": []
    },
    {
      "metadata": {
        "trusted": true,
        "_uuid": "706897056c0987a679bf2ed660eeb40fd544500b",
        "collapsed": true
      },
      "cell_type": "code",
      "source": "import pandas as pd\ntrain_csv = pd.read_csv(default_path+'train.csv')\ntest_csv = pd.read_csv(default_path+'test.csv')",
      "execution_count": null,
      "outputs": []
    },
    {
      "metadata": {
        "trusted": true,
        "_uuid": "c5b42d071efd957c3b9ac672653aaf6d09ee76cb",
        "collapsed": true
      },
      "cell_type": "code",
      "source": "import numpy as np\nfrom sklearn.model_selection import train_test_split\ntraining_data = np.array(train_csv)\ntesting_data = np.array(test_csv)\n#print(training_data.shape, testing_data.shape)\n\nfeature = training_data[:, 1:]\nlabel = training_data[:, :1]\n\nX_train, X_test, y_train, y_test = train_test_split(feature, label, test_size = 0.2, stratify=label)\nprint(X_train.shape, y_train.shape, X_test.shape, y_test.shape)",
      "execution_count": null,
      "outputs": []
    },
    {
      "metadata": {
        "trusted": true,
        "_uuid": "96cdfa337dcea974663d8af9e8f7d22d65083bb4",
        "collapsed": true
      },
      "cell_type": "code",
      "source": "import seaborn as sns\nsns.set(style='white')\ng = sns.countplot(train_csv['label'])",
      "execution_count": null,
      "outputs": []
    },
    {
      "metadata": {
        "_uuid": "ca6a9663f383959b49e24a27cbfc2c1d8c8dbbd4"
      },
      "cell_type": "markdown",
      "source": "## KNNClassifier\n```\nfrom sklearn.neighbors import KNeighborsClassifier\nKNN = KNeighborsClassifier(n_neighbors=10)\nKNN.fit(X_train, y_train)\nprint(KNN.predict(X_test[:10]).shape,  y_test[:10].flatten())\n\nprint(X_test[:10].shape)\n\n#KNN.score(KNN.predict(X_test[:10]), y_test[:10].flatten())\n\nprediction = KNN.predict(X_test)\nfrom sklearn.metrics import accuracy_score\nprint(accuracy_score(y_test, prediction))\n\nprediction_test = KNN.predict(testing_data)\nprediction_test\n```"
    },
    {
      "metadata": {
        "_uuid": "c85d77d29ef7157ba468389bb71b216eec6939bc"
      },
      "cell_type": "markdown",
      "source": ""
    },
    {
      "metadata": {
        "_uuid": "5dd9feb720448f1176042910f15577af0d9cf48a"
      },
      "cell_type": "markdown",
      "source": "## SVC\n```\nfrom sklearn.svm import SVC\nSVC = SVC(kernel = 'poly').fit(X_train, y_train.ravel())\nSVC.score(X_test[:1000], y_test[:1000])\n\nresult = pd.DataFrame(SVC.predict(testing_data))\nresult.index += 1\nresult.index.name = 'ImageId'\nresult.columns = ['Label']\nresult.to_csv('results_SVC.csv',header=True)\nresult\n```"
    },
    {
      "metadata": {
        "_uuid": "7c6bcc55201dcf0bfb72cadae92063c9e2272fbe"
      },
      "cell_type": "markdown",
      "source": "## AdaBoost\n```\nfrom sklearn import ensemble\nAdaBoost = ensemble.AdaBoostClassifier(n_estimators=200, learning_rate=0.1).fit(X_train[:5000], y_train[:5000])\nAdaBoost.score(X_test[:1000], y_test[:1000])\n```"
    },
    {
      "metadata": {
        "_uuid": "42211fcb47d7cbc7d65c15eb003db176eb64c4a8"
      },
      "cell_type": "markdown",
      "source": "## Bagging\n```\nBagging = ensemble.BaggingClassifier(n_estimators=200).fit(X_train[:5000], y_train[:5000])\nBagging.score(X_test[:1000], y_test[:1000])\n```"
    },
    {
      "metadata": {
        "_uuid": "bc9ed05b4ea4b95f2956bc9c97ae06384aa70d3f"
      },
      "cell_type": "markdown",
      "source": "## Random Forst\n```\nfrom sklearn import ensemble\nRandomForst = ensemble.RandomForestClassifier(n_estimators=50).fit(X_train, y_train)\nRandomForst.score(X_test, y_test)\n```"
    },
    {
      "metadata": {
        "_uuid": "190e15570cb255b9803062e23405bbc76710fef0"
      },
      "cell_type": "markdown",
      "source": "## Naive Bayes\n```\nfrom sklearn.naive_bayes import MultinomialNB\nNB = MultinomialNB().fit(X_train, y_train)\nNB.score(X_test[:1000], y_test[:1000])\n```"
    },
    {
      "metadata": {
        "_uuid": "2436c7afbcbe095d09caca3f2f6134ebef079b40"
      },
      "cell_type": "markdown",
      "source": "## CNN"
    },
    {
      "metadata": {
        "trusted": true,
        "_uuid": "8da208c4019ea9221757805ada0a6840ea7b588b",
        "collapsed": true
      },
      "cell_type": "code",
      "source": "# check if any missing value\ntrain_csv.isnull().any().any()",
      "execution_count": null,
      "outputs": []
    },
    {
      "metadata": {
        "trusted": true,
        "_uuid": "55f6cb2a2aefb370ace5c48c8c3364c218edd478",
        "collapsed": true
      },
      "cell_type": "code",
      "source": "# Normalization\nfrom sklearn.preprocessing import MinMaxScaler\nscaler = MinMaxScaler()\nX_train = scaler.fit_transform(X_train)\nX_test = scaler.transform(X_test)",
      "execution_count": null,
      "outputs": []
    },
    {
      "metadata": {
        "trusted": true,
        "_uuid": "f7e9b925941efd0e934c57c5ec42e080e66c4d02",
        "collapsed": true
      },
      "cell_type": "code",
      "source": "# Reshape\nX_train = X_train.reshape(-1, 28, 28, 1)\nX_test = X_test.reshape(-1, 28, 28,1)",
      "execution_count": null,
      "outputs": []
    },
    {
      "metadata": {
        "trusted": true,
        "_uuid": "3219dbd0ce684616c727edb936fa791bcaf9a480",
        "collapsed": true
      },
      "cell_type": "code",
      "source": "# One-hot encoding\nfrom keras.utils import to_categorical\ny_train_oneHot = to_categorical(y_train, num_classes= 10)\ny_test_oneHot = to_categorical(y_test, num_classes=10)",
      "execution_count": null,
      "outputs": []
    },
    {
      "metadata": {
        "trusted": true,
        "_uuid": "9e4a76c9cdb972c01d7b5a9809712199013083eb",
        "collapsed": true
      },
      "cell_type": "code",
      "source": "import matplotlib.pyplot as plt\nplt.imshow(X_train[0][:, :, 0])",
      "execution_count": null,
      "outputs": []
    },
    {
      "metadata": {
        "trusted": true,
        "_uuid": "652c5ba5d1220e332ce525b8eb91c9b15c6fc955",
        "collapsed": true
      },
      "cell_type": "code",
      "source": "from keras.layers import Convolution2D, Dense, MaxPooling2D, Dropout, Flatten\nfrom keras.models import Sequential\n\nmodel = Sequential()\nmodel.add(Convolution2D(filters=32, kernel_size=(5, 5), padding='same', input_shape = (28, 28, 1), activation='relu'))\nmodel.add(MaxPooling2D(pool_size=(2, 2)))\nmodel.add(Convolution2D(filters=64, kernel_size=(5, 5), padding='same', activation='relu'))       \nmodel.add(MaxPooling2D(pool_size=(2, 2)))\nmodel.add(Dropout(0.3))\nmodel.add(Flatten())\n\nmodel.add(Dense(units=256, activation='relu',))\nmodel.add(Dropout(0.3))\nmodel.add(Dense(units=10, activation='softmax'))\n\nmodel.summary()",
      "execution_count": null,
      "outputs": []
    },
    {
      "metadata": {
        "trusted": true,
        "_uuid": "3efee96cb81c966cb6d10e6e89a5d80c3278eca5",
        "collapsed": true
      },
      "cell_type": "code",
      "source": "# optimizer = 'adam'\n#model.compile(optimizer='adam', loss = 'categorical_crossentropy', metrics=['accuracy'])\n# optimizer = 'RMSprop'\nmodel.compile(optimizer='RMSprop', loss = 'categorical_crossentropy', metrics=['accuracy'])",
      "execution_count": null,
      "outputs": []
    },
    {
      "metadata": {
        "trusted": true,
        "_uuid": "a2ca41cb8f17fe9bd236998ab80dc2b537a8f61a",
        "collapsed": true
      },
      "cell_type": "code",
      "source": "from keras.callbacks import ReduceLROnPlateau\n# To keep the advantage of the fast computation time with a high LR, i decreased the LR dynamically every X steps (epochs) depending if it is necessary (when accuracy is not improved).\n# With the ReduceLROnPlateau function from Keras.callbacks, i choose to reduce the LR by half if the accuracy is not improved after 3 epochs.\n\n# Set a learning rate annealer\nlearning_rate_reduction = ReduceLROnPlateau(monitor='val_acc', \n                                            patience=3, \n                                            verbose=1, \n                                            factor=0.5, \n                                            min_lr=0.00001)",
      "execution_count": null,
      "outputs": []
    },
    {
      "metadata": {
        "trusted": true,
        "_uuid": "95af2e21c3c452463c805f575c54420d62776b14",
        "collapsed": true
      },
      "cell_type": "code",
      "source": "from keras.preprocessing.image import ImageDataGenerator\n# I did not apply a vertical_flip nor horizontal_flip since it could have lead to misclassify symetrical numbers such as 6 and 9.\n\ndatagen = ImageDataGenerator(\n        featurewise_center=False,  # set input mean to 0 over the dataset\n        samplewise_center=False,  # set each sample mean to 0\n        featurewise_std_normalization=False,  # divide inputs by std of the dataset\n        samplewise_std_normalization=False,  # divide each input by its std\n        zca_whitening=False,  # apply ZCA whitening\n        rotation_range=10,  # randomly rotate images in the range (degrees, 0 to 180)\n        zoom_range = 0.1, # Randomly zoom image \n        width_shift_range=0.1,  # randomly shift images horizontally (fraction of total width)\n        height_shift_range=0.1,  # randomly shift images vertically (fraction of total height)\n        horizontal_flip=False,  # randomly flip images\n        vertical_flip=False)  # randomly flip images\ndatagen.fit(X_train)\n\n",
      "execution_count": null,
      "outputs": []
    },
    {
      "metadata": {
        "trusted": true,
        "_uuid": "8404cfdd25567dc480fec506661c17faf4a7e6dd",
        "collapsed": true
      },
      "cell_type": "code",
      "source": "#model.fit(X_train, y_train_oneHot, batch_size=256, epochs=10,verbose=1, validation_split=0.2, callbacks=[learning_rate_reduction])\n#model.fit(X_train, y_train_oneHot, batch_size=256, epochs=10,verbose=1, validation_split=0.2)\n# Fit the model\nhistory = model.fit_generator(datagen.flow(X_train, y_train_oneHot, batch_size=128),\n                              epochs = 50, validation_data=(X_test, y_test_oneHot),\n                              verbose = 1, steps_per_epoch=X_train.shape[0]/128, \n                              callbacks=[learning_rate_reduction])",
      "execution_count": null,
      "outputs": []
    },
    {
      "metadata": {
        "trusted": true,
        "_uuid": "eab9d255e0b06ef76d4d632c6fd299141e2f6a86",
        "collapsed": true
      },
      "cell_type": "code",
      "source": "model.evaluate(X_test, y_test_oneHot)",
      "execution_count": null,
      "outputs": []
    },
    {
      "metadata": {
        "trusted": true,
        "_uuid": "c03c946cb42efedf0674bd69aaa21dfcdcae26d4",
        "collapsed": true
      },
      "cell_type": "code",
      "source": "testing_data = scaler.transform(testing_data).reshape(-1, 28, 28, 1)\nCNN_prediction = model.predict_classes(testing_data)",
      "execution_count": null,
      "outputs": []
    },
    {
      "metadata": {
        "trusted": true,
        "_uuid": "b2244183f6f3fc4e959f42ace3c3ea55f5becd52",
        "collapsed": true
      },
      "cell_type": "code",
      "source": "result = pd.DataFrame(CNN_prediction)\nresult.index += 1\nresult.index.name = 'ImageId'\nresult.columns = ['Label']\nresult.to_csv('results_CNN_.csv',header=True)\nresult.head()",
      "execution_count": null,
      "outputs": []
    },
    {
      "metadata": {
        "trusted": true,
        "_uuid": "72f4747a6fd9f0d4fa33e15331cadc0357528983",
        "collapsed": true
      },
      "cell_type": "code",
      "source": "",
      "execution_count": null,
      "outputs": []
    }
  ],
  "metadata": {
    "kernelspec": {
      "display_name": "Python 3",
      "language": "python",
      "name": "python3"
    },
    "language_info": {
      "name": "python",
      "version": "3.6.4",
      "mimetype": "text/x-python",
      "codemirror_mode": {
        "name": "ipython",
        "version": 3
      },
      "pygments_lexer": "ipython3",
      "nbconvert_exporter": "python",
      "file_extension": ".py"
    }
  },
  "nbformat": 4,
  "nbformat_minor": 1
}