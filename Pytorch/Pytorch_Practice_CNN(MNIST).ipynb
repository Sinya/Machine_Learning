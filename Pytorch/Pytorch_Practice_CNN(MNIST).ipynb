{
 "cells": [
  {
   "cell_type": "markdown",
   "metadata": {},
   "source": [
    "# Pytorch_Practice_CNN(MNIST)"
   ]
  },
  {
   "cell_type": "markdown",
   "metadata": {},
   "source": [
    "### 補充：在Pytorch使用gpu訓練\n",
    "要使用gpu有幾個地方要改：\n",
    "#### 1. 資料要用cuda()轉換\n",
    "```python\n",
    "...\n",
    "# used for cuda\n",
    "X_batch = X_batch.cuda()\n",
    "y_batch = y_batch.cuda()\n",
    "```\n",
    "以及\n",
    "```python\n",
    "X_test = torch.unsqueeze(test_data.test_data, dim=1).type(torch.FloatTensor).cuda() / 255\n",
    "y_test = test_data.test_labels.cuda()\n",
    "```\n",
    "\n",
    "#### 2.模型要放到gpu上\n",
    "```python\n",
    "cnn = CNN()\n",
    "# use gpu to train\n",
    "cnn.cuda()\n",
    "```\n",
    "\n",
    "#### 3.如果要將資料轉回cpu運算，則使用cpu()轉回來\n",
    "像是numpy()不支援在gpu上執行\n",
    "```python\n",
    "torch.sum(pred == y_test).cpu().numpy()\n",
    "```\n"
   ]
  },
  {
   "cell_type": "code",
   "execution_count": 1,
   "metadata": {
    "ExecuteTime": {
     "end_time": "2019-02-19T07:34:06.291726Z",
     "start_time": "2019-02-19T07:34:05.808782Z"
    }
   },
   "outputs": [],
   "source": [
    "import torch\n",
    "import torch.nn as nn\n",
    "from torch.autograd import Variable\n",
    "import torch.utils.data as Data\n",
    "import torchvision\n",
    "import matplotlib.pyplot as plt\n",
    "import os"
   ]
  },
  {
   "cell_type": "code",
   "execution_count": 2,
   "metadata": {
    "ExecuteTime": {
     "end_time": "2019-02-19T07:34:06.295191Z",
     "start_time": "2019-02-19T07:34:06.293186Z"
    }
   },
   "outputs": [],
   "source": [
    "EPOCH = 5\n",
    "BATCH_SIZE = 500\n",
    "LR = 0.001"
   ]
  },
  {
   "cell_type": "markdown",
   "metadata": {},
   "source": [
    "### 1.load data"
   ]
  },
  {
   "cell_type": "code",
   "execution_count": 3,
   "metadata": {
    "ExecuteTime": {
     "end_time": "2019-02-19T07:34:06.328624Z",
     "start_time": "2019-02-19T07:34:06.296399Z"
    }
   },
   "outputs": [],
   "source": [
    "train_data = torchvision.datasets.MNIST(\n",
    "    root = './mnist',\n",
    "    train = True,\n",
    "    transform = torchvision.transforms.ToTensor(), #將下載後的東西轉成tensor並做Standardization\n",
    "    download = not(os.path.isdir('./mnist')))\n",
    "test_data = torchvision.datasets.MNIST(root='./mnist', \n",
    "                                       train=False, \n",
    "                                       download=not(os.path.isdir('./mnist')))"
   ]
  },
  {
   "cell_type": "code",
   "execution_count": 4,
   "metadata": {
    "ExecuteTime": {
     "end_time": "2019-02-19T07:34:06.446602Z",
     "start_time": "2019-02-19T07:34:06.330070Z"
    }
   },
   "outputs": [
    {
     "data": {
      "text/plain": [
       "<matplotlib.image.AxesImage at 0x7f643da0fbe0>"
      ]
     },
     "execution_count": 4,
     "metadata": {},
     "output_type": "execute_result"
    },
    {
     "data": {
      "image/png": "[encoded data removed]",
      "text/plain": [
       "<Figure size 432x288 with 1 Axes>"
      ]
     },
     "metadata": {},
     "output_type": "display_data"
    }
   ],
   "source": [
    "plt.imshow(train_data.train_data[0])"
   ]
  },
  {
   "cell_type": "code",
   "execution_count": 5,
   "metadata": {
    "ExecuteTime": {
     "end_time": "2019-02-19T07:34:08.368244Z",
     "start_time": "2019-02-19T07:34:06.448023Z"
    }
   },
   "outputs": [],
   "source": [
    "train_loader = Data.DataLoader(dataset=train_data,\n",
    "                               batch_size=BATCH_SIZE,\n",
    "                               shuffle=True,\n",
    "                               num_workers=4)\n",
    "X_test = torch.unsqueeze(test_data.test_data, dim=1).type(torch.FloatTensor).cuda() / 255\n",
    "y_test = test_data.test_labels.cuda()"
   ]
  },
  {
   "cell_type": "markdown",
   "metadata": {},
   "source": [
    "### 2.build model"
   ]
  },
  {
   "cell_type": "code",
   "execution_count": 6,
   "metadata": {
    "ExecuteTime": {
     "end_time": "2019-02-19T07:34:08.375157Z",
     "start_time": "2019-02-19T07:34:08.369619Z"
    }
   },
   "outputs": [],
   "source": [
    "class CNN(nn.Module):\n",
    "    def __init__(self):\n",
    "        super(CNN, self).__init__()\n",
    "        self.conv1 = nn.Sequential( # input shape:(1, 28, 28)\n",
    "            nn.Conv2d(in_channels=1, # channel\n",
    "                      out_channels=16, # filter number\n",
    "                      kernel_size=5, # filter size\n",
    "                      stride=1,\n",
    "                      padding=2 #padding=(kernel_size-1)/2 when stride=1\n",
    "                      ),\n",
    "            nn.ReLU(),\n",
    "            nn.MaxPool2d(kernel_size=2) # output shape: (16, 14, 14)\n",
    "        )\n",
    "        self.conv2 = nn.Sequential(\n",
    "            nn.Conv2d(in_channels=16,  \n",
    "                      out_channels=32,\n",
    "                      kernel_size=5,\n",
    "                      stride=1,\n",
    "                      padding=2\n",
    "                      ),\n",
    "            nn.ReLU(),\n",
    "            nn.MaxPool2d(kernel_size=2) # output shape: (32, 7, 7)\n",
    "        )\n",
    "        self.out = nn.Linear(in_features=32 * 7 * 7, out_features=10)\n",
    "    def forward(self, x):\n",
    "        x = self.conv1(x)\n",
    "        x = self.conv2(x)\n",
    "        # flatten\n",
    "        x = x.view(x.size()[0], -1) # (batch size, 28*28)\n",
    "        # 另一種寫法\n",
    "        # x = x.view(-1, 28*28)\n",
    "        output = self.out(x)\n",
    "        return output"
   ]
  },
  {
   "cell_type": "code",
   "execution_count": 7,
   "metadata": {
    "ExecuteTime": {
     "end_time": "2019-02-19T07:34:08.402106Z",
     "start_time": "2019-02-19T07:34:08.377592Z"
    }
   },
   "outputs": [
    {
     "name": "stdout",
     "output_type": "stream",
     "text": [
      "CNN(\n",
      "  (conv1): Sequential(\n",
      "    (0): Conv2d(1, 16, kernel_size=(5, 5), stride=(1, 1), padding=(2, 2))\n",
      "    (1): ReLU()\n",
      "    (2): MaxPool2d(kernel_size=2, stride=2, padding=0, dilation=1, ceil_mode=False)\n",
      "  )\n",
      "  (conv2): Sequential(\n",
      "    (0): Conv2d(16, 32, kernel_size=(5, 5), stride=(1, 1), padding=(2, 2))\n",
      "    (1): ReLU()\n",
      "    (2): MaxPool2d(kernel_size=2, stride=2, padding=0, dilation=1, ceil_mode=False)\n",
      "  )\n",
      "  (out): Linear(in_features=1568, out_features=10, bias=True)\n",
      ")\n"
     ]
    }
   ],
   "source": [
    "cnn = CNN()\n",
    "# use gpu to train\n",
    "cnn.cuda()\n",
    "print(cnn)"
   ]
  },
  {
   "cell_type": "markdown",
   "metadata": {},
   "source": [
    "### 3.Train"
   ]
  },
  {
   "cell_type": "code",
   "execution_count": 8,
   "metadata": {
    "ExecuteTime": {
     "end_time": "2019-02-19T07:34:14.313802Z",
     "start_time": "2019-02-19T07:34:08.404140Z"
    }
   },
   "outputs": [
    {
     "name": "stdout",
     "output_type": "stream",
     "text": [
      "epoch: 0 test loss: 2.3174 test acc: 0.1794\n",
      "epoch: 0 test loss: 0.3806 test acc: 0.9034\n",
      "epoch: 0 test loss: 0.2895 test acc: 0.9361\n",
      "epoch: 1 test loss: 0.1941 test acc: 0.9449\n",
      "epoch: 1 test loss: 0.1492 test acc: 0.9607\n",
      "epoch: 1 test loss: 0.1313 test acc: 0.9699\n",
      "epoch: 2 test loss: 0.1342 test acc: 0.9727\n",
      "epoch: 2 test loss: 0.0939 test acc: 0.9767\n",
      "epoch: 2 test loss: 0.0630 test acc: 0.9792\n",
      "epoch: 3 test loss: 0.0736 test acc: 0.9784\n",
      "epoch: 3 test loss: 0.0985 test acc: 0.9801\n",
      "epoch: 3 test loss: 0.1375 test acc: 0.981\n",
      "epoch: 4 test loss: 0.0792 test acc: 0.983\n",
      "epoch: 4 test loss: 0.0499 test acc: 0.9831\n",
      "epoch: 4 test loss: 0.0388 test acc: 0.9836\n"
     ]
    }
   ],
   "source": [
    "optimizer = torch.optim.Adam(cnn.parameters(), lr=LR)\n",
    "loss_func = nn.CrossEntropyLoss() # torch 的crossentropyloss不用做onehot\n",
    "\n",
    "for epoch in range(EPOCH):\n",
    "    for step, (X_batch, y_batch) in enumerate(train_loader):\n",
    "        # used for cuda\n",
    "        X_batch = X_batch.cuda()\n",
    "        y_batch = y_batch.cuda()\n",
    "        \n",
    "        output = cnn(X_batch)\n",
    "        loss = loss_func(output, y_batch) #remember order(pred, groundtruth)\n",
    "        optimizer.zero_grad()\n",
    "        loss.backward()\n",
    "        optimizer.step()\n",
    "        if step % 50 == 0:\n",
    "            # torch.max回傳兩個tensor，第一個是原tensor的max，第二個是對應的index num\n",
    "            # index剛好可以對應one-hot，所以可以直接用\n",
    "            test_output = cnn(X_test)\n",
    "            pred = torch.max(test_output, dim=1)[1]\n",
    "            # 有坑注意！不要用sum()，如果要用的話要先讓資料是ndarray type！\n",
    "            train_acc = torch.sum(pred == y_test).cpu().numpy() / X_test.shape[0]\n",
    "            train_loss = loss\n",
    "            print('epoch:', epoch, 'test loss: %.4f' % train_loss, 'test acc:', train_acc)"
   ]
  },
  {
   "cell_type": "markdown",
   "metadata": {},
   "source": [
    "### 4.Predict"
   ]
  },
  {
   "cell_type": "code",
   "execution_count": 9,
   "metadata": {
    "ExecuteTime": {
     "end_time": "2019-02-19T07:34:14.323055Z",
     "start_time": "2019-02-19T07:34:14.317319Z"
    }
   },
   "outputs": [
    {
     "name": "stdout",
     "output_type": "stream",
     "text": [
      "prediction: tensor([7, 2, 1, 0, 4, 1, 4, 9, 5, 9], device='cuda:0')\n",
      "groundtruth: tensor([7, 2, 1, 0, 4, 1, 4, 9, 5, 9], device='cuda:0')\n"
     ]
    }
   ],
   "source": [
    "pred_output = cnn(X_test[:10])\n",
    "y_pred = torch.max(pred_output, dim=1)[1]\n",
    "print('prediction:', y_pred)\n",
    "print('groundtruth:', y_test[:10])"
   ]
  },
  {
   "cell_type": "code",
   "execution_count": null,
   "metadata": {},
   "outputs": [],
   "source": []
  }
 ],
 "metadata": {
  "kernelspec": {
   "display_name": "Python 3",
   "language": "python",
   "name": "python3"
  },
  "language_info": {
   "codemirror_mode": {
    "name": "ipython",
    "version": 3
   },
   "file_extension": ".py",
   "mimetype": "text/x-python",
   "name": "python",
   "nbconvert_exporter": "python",
   "pygments_lexer": "ipython3",
   "version": "3.6.7"
  },
  "toc": {
   "nav_menu": {},
   "number_sections": true,
   "sideBar": true,
   "skip_h1_title": false,
   "toc_cell": false,
   "toc_position": {},
   "toc_section_display": "block",
   "toc_window_display": false
  }
 },
 "nbformat": 4,
 "nbformat_minor": 2
}
