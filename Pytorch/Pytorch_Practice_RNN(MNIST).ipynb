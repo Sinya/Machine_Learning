{
 "cells": [
  {
   "cell_type": "markdown",
   "metadata": {},
   "source": [
    "# Pytorch_Practice_RNN(MNIST)\n",
    "為什麼圖片可以用RNN?\n",
    "- 可以想成看圖片時是由圖片最上面往下一列一列看"
   ]
  },
  {
   "cell_type": "code",
   "execution_count": 1,
   "metadata": {},
   "outputs": [],
   "source": [
    "import torch\n",
    "from torch import nn\n",
    "import torch.utils.data as Data\n",
    "import torchvision.datasets \n",
    "import torchvision.transforms\n",
    "import matplotlib.pyplot as plt"
   ]
  },
  {
   "cell_type": "code",
   "execution_count": 2,
   "metadata": {},
   "outputs": [],
   "source": [
    "EPOCH = 1\n",
    "BATCH_SIZE = 64\n",
    "TIME_STEP = 28  #總共有幾筆序列要輸入\n",
    "INPUT_SIZE = 28  #每次輸入的資料\n",
    "LR = 0.01\n",
    "DOWNLOAD_MNIST = False"
   ]
  },
  {
   "cell_type": "code",
   "execution_count": 3,
   "metadata": {},
   "outputs": [],
   "source": [
    "train_data = torchvision.datasets.MNIST(\n",
    "    root = './mnist/',\n",
    "    train = True,\n",
    "    transform = torchvision.transforms.ToTensor(),\n",
    "    download = DOWNLOAD_MNIST\n",
    ")\n",
    "test_data = torchvision.datasets.MNIST(root='./mnist/', train=False)"
   ]
  },
  {
   "cell_type": "code",
   "execution_count": 4,
   "metadata": {},
   "outputs": [
    {
     "data": {
      "text/plain": [
       "<matplotlib.image.AxesImage at 0x7f21619c6f28>"
      ]
     },
     "execution_count": 4,
     "metadata": {},
     "output_type": "execute_result"
    },
    {
     "data": {
      "image/png": "[encoded data removed]",
      "text/plain": [
       "<Figure size 432x288 with 1 Axes>"
      ]
     },
     "metadata": {},
     "output_type": "display_data"
    }
   ],
   "source": [
    "plt.imshow(train_data.train_data[0], cmap='gray')"
   ]
  },
  {
   "cell_type": "code",
   "execution_count": 5,
   "metadata": {},
   "outputs": [],
   "source": [
    "train_loader = Data.DataLoader(dataset=train_data, shuffle=True, batch_size=BATCH_SIZE)\n",
    "X_test = test_data.test_data[:2000].type(torch.FloatTensor) / 255.0 \n",
    "# X_test: (2000, 28, 28)，跟cnn不同(2000, 1, 28, 28)\n",
    "# rnn 不需要channel\n",
    "y_test = test_data.test_labels[:2000]\n",
    "\n",
    "X_test = X_test.cuda()\n",
    "y_test = y_test.cuda()"
   ]
  },
  {
   "cell_type": "code",
   "execution_count": 6,
   "metadata": {},
   "outputs": [],
   "source": [
    "# https://zhuanlan.zhihu.com/p/39191116\n",
    "class RNN(nn.Module):\n",
    "    def __init__(self):\n",
    "        super(RNN, self).__init__()\n",
    "\n",
    "        self.rnn = nn.LSTM(\n",
    "            input_size=28,  # input pixels\n",
    "            hidden_size=64,  # numbers of rnn neurons\n",
    "            num_layers=1,  # numbers of rnn layers\n",
    "            batch_first=True  # (batch, time_step, input_size)\n",
    "        )\n",
    "        self.output = nn.Linear(in_features=64, out_features=10)\n",
    "\n",
    "    def forward(self, x):\n",
    "        r_out, (r_h, r_c) = self.rnn(x, None)\n",
    "        # x:(batch_size, time_step, input_size)\n",
    "        # None代表當下沒有要傳入hidden state（預設全部0）\n",
    "        # r_out代表當下的output，(batch_size, time_step, hidden_size)\n",
    "        # (r_h, r_c)是當下的hidden state，(num_layer, batch_size, hidden_size)\n",
    "\n",
    "        out = self.output(\n",
    "            r_out[:, -1, :])  # r_out紀錄了28筆timestep的output，所以要選取最後一個時刻的output\n",
    "        return out"
   ]
  },
  {
   "cell_type": "code",
   "execution_count": 7,
   "metadata": {},
   "outputs": [
    {
     "name": "stdout",
     "output_type": "stream",
     "text": [
      "RNN(\n",
      "  (rnn): LSTM(28, 64, batch_first=True)\n",
      "  (output): Linear(in_features=64, out_features=10, bias=True)\n",
      ")\n"
     ]
    }
   ],
   "source": [
    "rnn = RNN()\n",
    "rnn.cuda()\n",
    "print(rnn)"
   ]
  },
  {
   "cell_type": "code",
   "execution_count": 8,
   "metadata": {},
   "outputs": [
    {
     "name": "stdout",
     "output_type": "stream",
     "text": [
      "epoch: 0 test loss: 2.3119 test acc: 0.1025\n",
      "epoch: 0 test loss: 1.4347 test acc: 0.4425\n",
      "epoch: 0 test loss: 0.8038 test acc: 0.653\n",
      "epoch: 0 test loss: 0.9320 test acc: 0.7225\n",
      "epoch: 0 test loss: 0.7641 test acc: 0.7485\n",
      "epoch: 0 test loss: 0.2461 test acc: 0.8335\n",
      "epoch: 0 test loss: 0.2824 test acc: 0.892\n",
      "epoch: 0 test loss: 0.4507 test acc: 0.878\n",
      "epoch: 0 test loss: 0.3953 test acc: 0.894\n",
      "epoch: 0 test loss: 0.0566 test acc: 0.9325\n",
      "epoch: 0 test loss: 0.2266 test acc: 0.919\n",
      "epoch: 0 test loss: 0.4125 test acc: 0.837\n",
      "epoch: 0 test loss: 0.1801 test acc: 0.9265\n",
      "epoch: 0 test loss: 0.1916 test acc: 0.9235\n",
      "epoch: 0 test loss: 0.2135 test acc: 0.9335\n",
      "epoch: 0 test loss: 0.1592 test acc: 0.941\n",
      "epoch: 0 test loss: 0.2911 test acc: 0.935\n",
      "epoch: 0 test loss: 0.0400 test acc: 0.946\n",
      "epoch: 0 test loss: 0.1208 test acc: 0.944\n"
     ]
    }
   ],
   "source": [
    "optimizer = torch.optim.Adam(rnn.parameters(), lr=LR)\n",
    "loss_func = nn.CrossEntropyLoss()# torch的crossentropyloss不用做onehot\n",
    "\n",
    "# train\n",
    "for epoch in range(EPOCH):\n",
    "    for step, (X_batch, y_batch) in enumerate(train_loader):\n",
    "        X_batch = X_batch.cuda()\n",
    "        y_batch = y_batch.cuda()\n",
    "      \n",
    "        # (batch_size, 1, time_step, input_size) -> (batch_size, time_step, input_size)\n",
    "        # train_loader會自動加上channel的1，所以要去掉\n",
    "        X_batch = X_batch.view(-1, 28, 28)\n",
    "        output = rnn(X_batch)\n",
    "        loss = loss_func(output, y_batch)\n",
    "        optimizer.zero_grad() # clear gradients\n",
    "        loss.backward() # calc gradients for each chain(back propagations)\n",
    "        optimizer.step() # apply gradients\n",
    "        \n",
    "        if step % 50 == 0:\n",
    "            # torch.max回傳兩個tensor，第一個是原tensor的max，第二個是對應的index num\n",
    "            # index剛好可以對應one-hot，所以可以直接用\n",
    "            test_output = rnn(X_test)\n",
    "            pred = torch.max(test_output, dim=1)[1]\n",
    "            # 有坑注意！不要用sum()，如果要用的話要先讓資料是ndarray type！\n",
    "            train_acc = torch.sum(pred == y_test).cpu().numpy() / X_test.shape[0]\n",
    "            train_loss = loss\n",
    "            print('epoch:', epoch, 'test loss: %.4f' % train_loss, 'test acc:', train_acc)\n"
   ]
  },
  {
   "cell_type": "code",
   "execution_count": 9,
   "metadata": {},
   "outputs": [
    {
     "name": "stdout",
     "output_type": "stream",
     "text": [
      "[7 2 1 0 4 1 4 9 6 9] [7 2 1 0 4 1 4 9 5 9]\n"
     ]
    }
   ],
   "source": [
    "test_output = rnn(X_test[:10])\n",
    "pred_y = torch.max(test_output, dim=1)[1].cpu().numpy()\n",
    "print(pred_y, y_test[:10].cpu().numpy())"
   ]
  },
  {
   "cell_type": "code",
   "execution_count": null,
   "metadata": {},
   "outputs": [],
   "source": []
  }
 ],
 "metadata": {
  "kernelspec": {
   "display_name": "Python 3",
   "language": "python",
   "name": "python3"
  },
  "language_info": {
   "codemirror_mode": {
    "name": "ipython",
    "version": 3
   },
   "file_extension": ".py",
   "mimetype": "text/x-python",
   "name": "python",
   "nbconvert_exporter": "python",
   "pygments_lexer": "ipython3",
   "version": "3.6.7"
  },
  "toc": {
   "nav_menu": {},
   "number_sections": true,
   "sideBar": true,
   "skip_h1_title": false,
   "toc_cell": false,
   "toc_position": {},
   "toc_section_display": "block",
   "toc_window_display": false
  }
 },
 "nbformat": 4,
 "nbformat_minor": 2
}
