{
  "nbformat": 4,
  "nbformat_minor": 0,
  "metadata": {
    "colab": {
      "name": "keras_quickdraw",
      "version": "0.3.2",
      "provenance": []
    },
    "kernelspec": {
      "name": "python3",
      "display_name": "Python 3"
    },
    "accelerator": "GPU"
  },
  "cells": [
    {
      "metadata": {
        "id": "ovrDUvTcbAvF",
        "colab_type": "code",
        "colab": {
          "base_uri": "https://localhost:8080/",
          "height": 51
        },
        "outputId": "ff0020a8-b9e4-41c5-a7d9-95c20137d0d4"
      },
      "cell_type": "code",
      "source": [
        "!ls"
      ],
      "execution_count": 0,
      "outputs": [
        {
          "output_type": "stream",
          "text": [
            "aclImdb_v1.tar.gz  keras_quickdraw.model  model\r\n",
            "datalab\t\t   mini_classes.txt\t  model.zip\r\n"
          ],
          "name": "stdout"
        }
      ]
    },
    {
      "metadata": {
        "id": "RCdmoYOJ5bsu",
        "colab_type": "code",
        "colab": {
          "base_uri": "https://localhost:8080/",
          "height": 34
        },
        "outputId": "9da8733f-82c7-4626-9049-a2b8ce186b85"
      },
      "cell_type": "code",
      "source": [
        "#install tqdm\n",
        "!pip install tqdm"
      ],
      "execution_count": 0,
      "outputs": [
        {
          "output_type": "stream",
          "text": [
            "Requirement already satisfied: tqdm in /usr/local/lib/python3.6/dist-packages (4.24.0)\r\n"
          ],
          "name": "stdout"
        }
      ]
    },
    {
      "metadata": {
        "id": "jQ4qt1QX6gC7",
        "colab_type": "code",
        "colab": {
          "resources": {
            "http://localhost:8080/nbextensions/google.colab/files.js": {
              "data": "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",
              "ok": true,
              "headers": [
                [
                  "content-type",
                  "application/javascript"
                ]
              ],
              "status": 200,
              "status_text": ""
            }
          },
          "base_uri": "https://localhost:8080/",
          "height": 74
        },
        "outputId": "cb2e0949-ff3e-41a4-f66b-3c5f5efaa146"
      },
      "cell_type": "code",
      "source": [
        "from google.colab import files\n",
        "# upload sub-categories files\n",
        "upload = files.upload()"
      ],
      "execution_count": 0,
      "outputs": [
        {
          "output_type": "display_data",
          "data": {
            "text/html": [
              "\n",
              "     <input type=\"file\" id=\"files-cbc2bc7f-e131-403a-abec-241877293cce\" name=\"files[]\" multiple disabled />\n",
              "     <output id=\"result-cbc2bc7f-e131-403a-abec-241877293cce\">\n",
              "      Upload widget is only available when the cell has been executed in the\n",
              "      current browser session. Please rerun this cell to enable.\n",
              "      </output>\n",
              "      <script src=\"/nbextensions/google.colab/files.js\"></script> "
            ],
            "text/plain": [
              "<IPython.core.display.HTML object>"
            ]
          },
          "metadata": {
            "tags": []
          }
        },
        {
          "output_type": "stream",
          "text": [
            "Saving my_categories.txt to my_categories.txt\n"
          ],
          "name": "stdout"
        }
      ]
    },
    {
      "metadata": {
        "id": "smwk--Qb6go6",
        "colab_type": "code",
        "colab": {
          "base_uri": "https://localhost:8080/",
          "height": 34
        },
        "outputId": "0b3247c4-e5dd-4ec1-ccf8-6c07dc239eba"
      },
      "cell_type": "code",
      "source": [
        "# load categories files\n",
        "with open('my_categories.txt', 'r') as f:\n",
        "    classes = f.readlines()\n",
        "    #url的空白在編碼上是%20，先換成_到時侯在換回來\n",
        "    classes = [ i.replace('\\n','').replace(' ', '_') for i in classes]\n",
        "print(len(classes))"
      ],
      "execution_count": 0,
      "outputs": [
        {
          "output_type": "stream",
          "text": [
            "168\n"
          ],
          "name": "stdout"
        }
      ]
    },
    {
      "metadata": {
        "id": "dipFo3ZO_7xZ",
        "colab_type": "code",
        "colab": {}
      },
      "cell_type": "code",
      "source": [
        "!mkdir data"
      ],
      "execution_count": 0,
      "outputs": []
    },
    {
      "metadata": {
        "id": "4dpH2-ka-KGE",
        "colab_type": "code",
        "colab": {
          "base_uri": "https://localhost:8080/",
          "height": 2890
        },
        "outputId": "ae99ca8c-50e5-487f-ce00-65e026f7981d"
      },
      "cell_type": "code",
      "source": [
        "# download (.npy) file from dataset\n",
        "import urllib.request\n",
        "import os\n",
        "def download():\n",
        "    url = 'https://storage.googleapis.com/quickdraw_dataset/full/numpy_bitmap/'\n",
        "    for i in classes:\n",
        "        if not os.path.isfile('data/' + i + '.npy'):\n",
        "            download_url = url + i.replace('_', '%20') + '.npy'\n",
        "            print('downloading:',download_url)\n",
        "            urllib.request.urlretrieve(download_url, 'data/' + i + '.npy')\n",
        "    print('total ', len(classes), 'files')\n",
        "download()"
      ],
      "execution_count": 0,
      "outputs": [
        {
          "output_type": "stream",
          "text": [
            "downloading: https://storage.googleapis.com/quickdraw_dataset/full/numpy_bitmap/airplane.npy\n",
            "downloading: https://storage.googleapis.com/quickdraw_dataset/full/numpy_bitmap/alarm%20clock.npy\n",
            "downloading: https://storage.googleapis.com/quickdraw_dataset/full/numpy_bitmap/ambulance.npy\n",
            "downloading: https://storage.googleapis.com/quickdraw_dataset/full/numpy_bitmap/angel.npy\n",
            "downloading: https://storage.googleapis.com/quickdraw_dataset/full/numpy_bitmap/ant.npy\n",
            "downloading: https://storage.googleapis.com/quickdraw_dataset/full/numpy_bitmap/apple.npy\n",
            "downloading: https://storage.googleapis.com/quickdraw_dataset/full/numpy_bitmap/arm.npy\n",
            "downloading: https://storage.googleapis.com/quickdraw_dataset/full/numpy_bitmap/axe.npy\n",
            "downloading: https://storage.googleapis.com/quickdraw_dataset/full/numpy_bitmap/banana.npy\n",
            "downloading: https://storage.googleapis.com/quickdraw_dataset/full/numpy_bitmap/baseball.npy\n",
            "downloading: https://storage.googleapis.com/quickdraw_dataset/full/numpy_bitmap/basket.npy\n",
            "downloading: https://storage.googleapis.com/quickdraw_dataset/full/numpy_bitmap/basketball.npy\n",
            "downloading: https://storage.googleapis.com/quickdraw_dataset/full/numpy_bitmap/bat.npy\n",
            "downloading: https://storage.googleapis.com/quickdraw_dataset/full/numpy_bitmap/beach.npy\n",
            "downloading: https://storage.googleapis.com/quickdraw_dataset/full/numpy_bitmap/bear.npy\n",
            "downloading: https://storage.googleapis.com/quickdraw_dataset/full/numpy_bitmap/beard.npy\n",
            "downloading: https://storage.googleapis.com/quickdraw_dataset/full/numpy_bitmap/bed.npy\n",
            "downloading: https://storage.googleapis.com/quickdraw_dataset/full/numpy_bitmap/bee.npy\n",
            "downloading: https://storage.googleapis.com/quickdraw_dataset/full/numpy_bitmap/bicycle.npy\n",
            "downloading: https://storage.googleapis.com/quickdraw_dataset/full/numpy_bitmap/bird.npy\n",
            "downloading: https://storage.googleapis.com/quickdraw_dataset/full/numpy_bitmap/birthday%20cake.npy\n",
            "downloading: https://storage.googleapis.com/quickdraw_dataset/full/numpy_bitmap/book.npy\n",
            "downloading: https://storage.googleapis.com/quickdraw_dataset/full/numpy_bitmap/bottlecap.npy\n",
            "downloading: https://storage.googleapis.com/quickdraw_dataset/full/numpy_bitmap/brain.npy\n",
            "downloading: https://storage.googleapis.com/quickdraw_dataset/full/numpy_bitmap/bread.npy\n",
            "downloading: https://storage.googleapis.com/quickdraw_dataset/full/numpy_bitmap/bridge.npy\n",
            "downloading: https://storage.googleapis.com/quickdraw_dataset/full/numpy_bitmap/bucket.npy\n",
            "downloading: https://storage.googleapis.com/quickdraw_dataset/full/numpy_bitmap/bus.npy\n",
            "downloading: https://storage.googleapis.com/quickdraw_dataset/full/numpy_bitmap/bush.npy\n",
            "downloading: https://storage.googleapis.com/quickdraw_dataset/full/numpy_bitmap/butterfly.npy\n",
            "downloading: https://storage.googleapis.com/quickdraw_dataset/full/numpy_bitmap/cake.npy\n",
            "downloading: https://storage.googleapis.com/quickdraw_dataset/full/numpy_bitmap/camera.npy\n",
            "downloading: https://storage.googleapis.com/quickdraw_dataset/full/numpy_bitmap/car.npy\n",
            "downloading: https://storage.googleapis.com/quickdraw_dataset/full/numpy_bitmap/carrot.npy\n",
            "downloading: https://storage.googleapis.com/quickdraw_dataset/full/numpy_bitmap/cat.npy\n",
            "downloading: https://storage.googleapis.com/quickdraw_dataset/full/numpy_bitmap/cell%20phone.npy\n",
            "downloading: https://storage.googleapis.com/quickdraw_dataset/full/numpy_bitmap/chair.npy\n",
            "downloading: https://storage.googleapis.com/quickdraw_dataset/full/numpy_bitmap/circle.npy\n",
            "downloading: https://storage.googleapis.com/quickdraw_dataset/full/numpy_bitmap/clock.npy\n",
            "downloading: https://storage.googleapis.com/quickdraw_dataset/full/numpy_bitmap/coffee%20cup.npy\n",
            "downloading: https://storage.googleapis.com/quickdraw_dataset/full/numpy_bitmap/computer.npy\n",
            "downloading: https://storage.googleapis.com/quickdraw_dataset/full/numpy_bitmap/cookie.npy\n",
            "downloading: https://storage.googleapis.com/quickdraw_dataset/full/numpy_bitmap/cow.npy\n",
            "downloading: https://storage.googleapis.com/quickdraw_dataset/full/numpy_bitmap/crown.npy\n",
            "downloading: https://storage.googleapis.com/quickdraw_dataset/full/numpy_bitmap/cup.npy\n",
            "downloading: https://storage.googleapis.com/quickdraw_dataset/full/numpy_bitmap/diamond.npy\n",
            "downloading: https://storage.googleapis.com/quickdraw_dataset/full/numpy_bitmap/dog.npy\n",
            "downloading: https://storage.googleapis.com/quickdraw_dataset/full/numpy_bitmap/dolphin.npy\n",
            "downloading: https://storage.googleapis.com/quickdraw_dataset/full/numpy_bitmap/door.npy\n",
            "downloading: https://storage.googleapis.com/quickdraw_dataset/full/numpy_bitmap/dragon.npy\n",
            "downloading: https://storage.googleapis.com/quickdraw_dataset/full/numpy_bitmap/dresser.npy\n",
            "downloading: https://storage.googleapis.com/quickdraw_dataset/full/numpy_bitmap/ear.npy\n",
            "downloading: https://storage.googleapis.com/quickdraw_dataset/full/numpy_bitmap/elephant.npy\n",
            "downloading: https://storage.googleapis.com/quickdraw_dataset/full/numpy_bitmap/envelope.npy\n",
            "downloading: https://storage.googleapis.com/quickdraw_dataset/full/numpy_bitmap/eraser.npy\n",
            "downloading: https://storage.googleapis.com/quickdraw_dataset/full/numpy_bitmap/eye.npy\n",
            "downloading: https://storage.googleapis.com/quickdraw_dataset/full/numpy_bitmap/eyeglasses.npy\n",
            "downloading: https://storage.googleapis.com/quickdraw_dataset/full/numpy_bitmap/face.npy\n",
            "downloading: https://storage.googleapis.com/quickdraw_dataset/full/numpy_bitmap/fan.npy\n",
            "downloading: https://storage.googleapis.com/quickdraw_dataset/full/numpy_bitmap/finger.npy\n",
            "downloading: https://storage.googleapis.com/quickdraw_dataset/full/numpy_bitmap/fish.npy\n",
            "downloading: https://storage.googleapis.com/quickdraw_dataset/full/numpy_bitmap/flower.npy\n",
            "downloading: https://storage.googleapis.com/quickdraw_dataset/full/numpy_bitmap/foot.npy\n",
            "downloading: https://storage.googleapis.com/quickdraw_dataset/full/numpy_bitmap/frog.npy\n",
            "downloading: https://storage.googleapis.com/quickdraw_dataset/full/numpy_bitmap/garden.npy\n",
            "downloading: https://storage.googleapis.com/quickdraw_dataset/full/numpy_bitmap/giraffe.npy\n",
            "downloading: https://storage.googleapis.com/quickdraw_dataset/full/numpy_bitmap/grapes.npy\n",
            "downloading: https://storage.googleapis.com/quickdraw_dataset/full/numpy_bitmap/grass.npy\n",
            "downloading: https://storage.googleapis.com/quickdraw_dataset/full/numpy_bitmap/guitar.npy\n",
            "downloading: https://storage.googleapis.com/quickdraw_dataset/full/numpy_bitmap/hamburger.npy\n",
            "downloading: https://storage.googleapis.com/quickdraw_dataset/full/numpy_bitmap/hand.npy\n",
            "downloading: https://storage.googleapis.com/quickdraw_dataset/full/numpy_bitmap/hat.npy\n",
            "downloading: https://storage.googleapis.com/quickdraw_dataset/full/numpy_bitmap/headphones.npy\n",
            "downloading: https://storage.googleapis.com/quickdraw_dataset/full/numpy_bitmap/hedgehog.npy\n",
            "downloading: https://storage.googleapis.com/quickdraw_dataset/full/numpy_bitmap/helicopter.npy\n",
            "downloading: https://storage.googleapis.com/quickdraw_dataset/full/numpy_bitmap/helmet.npy\n",
            "downloading: https://storage.googleapis.com/quickdraw_dataset/full/numpy_bitmap/horse.npy\n",
            "downloading: https://storage.googleapis.com/quickdraw_dataset/full/numpy_bitmap/hospital.npy\n",
            "downloading: https://storage.googleapis.com/quickdraw_dataset/full/numpy_bitmap/hot%20air%20balloon.npy\n",
            "downloading: https://storage.googleapis.com/quickdraw_dataset/full/numpy_bitmap/house.npy\n",
            "downloading: https://storage.googleapis.com/quickdraw_dataset/full/numpy_bitmap/ice%20cream.npy\n",
            "downloading: https://storage.googleapis.com/quickdraw_dataset/full/numpy_bitmap/jacket.npy\n",
            "downloading: https://storage.googleapis.com/quickdraw_dataset/full/numpy_bitmap/jail.npy\n",
            "downloading: https://storage.googleapis.com/quickdraw_dataset/full/numpy_bitmap/kangaroo.npy\n",
            "downloading: https://storage.googleapis.com/quickdraw_dataset/full/numpy_bitmap/key.npy\n",
            "downloading: https://storage.googleapis.com/quickdraw_dataset/full/numpy_bitmap/keyboard.npy\n",
            "downloading: https://storage.googleapis.com/quickdraw_dataset/full/numpy_bitmap/knee.npy\n",
            "downloading: https://storage.googleapis.com/quickdraw_dataset/full/numpy_bitmap/knife.npy\n",
            "downloading: https://storage.googleapis.com/quickdraw_dataset/full/numpy_bitmap/ladder.npy\n",
            "downloading: https://storage.googleapis.com/quickdraw_dataset/full/numpy_bitmap/laptop.npy\n",
            "downloading: https://storage.googleapis.com/quickdraw_dataset/full/numpy_bitmap/leaf.npy\n",
            "downloading: https://storage.googleapis.com/quickdraw_dataset/full/numpy_bitmap/leg.npy\n",
            "downloading: https://storage.googleapis.com/quickdraw_dataset/full/numpy_bitmap/light%20bulb.npy\n",
            "downloading: https://storage.googleapis.com/quickdraw_dataset/full/numpy_bitmap/lighter.npy\n",
            "downloading: https://storage.googleapis.com/quickdraw_dataset/full/numpy_bitmap/lighthouse.npy\n",
            "downloading: https://storage.googleapis.com/quickdraw_dataset/full/numpy_bitmap/line.npy\n",
            "downloading: https://storage.googleapis.com/quickdraw_dataset/full/numpy_bitmap/lion.npy\n",
            "downloading: https://storage.googleapis.com/quickdraw_dataset/full/numpy_bitmap/mailbox.npy\n",
            "downloading: https://storage.googleapis.com/quickdraw_dataset/full/numpy_bitmap/map.npy\n",
            "downloading: https://storage.googleapis.com/quickdraw_dataset/full/numpy_bitmap/marker.npy\n",
            "downloading: https://storage.googleapis.com/quickdraw_dataset/full/numpy_bitmap/monkey.npy\n",
            "downloading: https://storage.googleapis.com/quickdraw_dataset/full/numpy_bitmap/moon.npy\n",
            "downloading: https://storage.googleapis.com/quickdraw_dataset/full/numpy_bitmap/mountain.npy\n",
            "downloading: https://storage.googleapis.com/quickdraw_dataset/full/numpy_bitmap/mouse.npy\n",
            "downloading: https://storage.googleapis.com/quickdraw_dataset/full/numpy_bitmap/mouth.npy\n",
            "downloading: https://storage.googleapis.com/quickdraw_dataset/full/numpy_bitmap/nail.npy\n",
            "downloading: https://storage.googleapis.com/quickdraw_dataset/full/numpy_bitmap/nose.npy\n",
            "downloading: https://storage.googleapis.com/quickdraw_dataset/full/numpy_bitmap/ocean.npy\n",
            "downloading: https://storage.googleapis.com/quickdraw_dataset/full/numpy_bitmap/peanut.npy\n",
            "downloading: https://storage.googleapis.com/quickdraw_dataset/full/numpy_bitmap/pencil.npy\n",
            "downloading: https://storage.googleapis.com/quickdraw_dataset/full/numpy_bitmap/piano.npy\n",
            "downloading: https://storage.googleapis.com/quickdraw_dataset/full/numpy_bitmap/pig.npy\n",
            "downloading: https://storage.googleapis.com/quickdraw_dataset/full/numpy_bitmap/pillow.npy\n",
            "downloading: https://storage.googleapis.com/quickdraw_dataset/full/numpy_bitmap/pineapple.npy\n",
            "downloading: https://storage.googleapis.com/quickdraw_dataset/full/numpy_bitmap/pizza.npy\n",
            "downloading: https://storage.googleapis.com/quickdraw_dataset/full/numpy_bitmap/potato.npy\n",
            "downloading: https://storage.googleapis.com/quickdraw_dataset/full/numpy_bitmap/rabbit.npy\n",
            "downloading: https://storage.googleapis.com/quickdraw_dataset/full/numpy_bitmap/raccoon.npy\n",
            "downloading: https://storage.googleapis.com/quickdraw_dataset/full/numpy_bitmap/radio.npy\n",
            "downloading: https://storage.googleapis.com/quickdraw_dataset/full/numpy_bitmap/rain.npy\n",
            "downloading: https://storage.googleapis.com/quickdraw_dataset/full/numpy_bitmap/rainbow.npy\n",
            "downloading: https://storage.googleapis.com/quickdraw_dataset/full/numpy_bitmap/rake.npy\n",
            "downloading: https://storage.googleapis.com/quickdraw_dataset/full/numpy_bitmap/rifle.npy\n",
            "downloading: https://storage.googleapis.com/quickdraw_dataset/full/numpy_bitmap/river.npy\n",
            "downloading: https://storage.googleapis.com/quickdraw_dataset/full/numpy_bitmap/sailboat.npy\n",
            "downloading: https://storage.googleapis.com/quickdraw_dataset/full/numpy_bitmap/sandwich.npy\n",
            "downloading: https://storage.googleapis.com/quickdraw_dataset/full/numpy_bitmap/school%20bus.npy\n",
            "downloading: https://storage.googleapis.com/quickdraw_dataset/full/numpy_bitmap/shark.npy\n",
            "downloading: https://storage.googleapis.com/quickdraw_dataset/full/numpy_bitmap/sheep.npy\n",
            "downloading: https://storage.googleapis.com/quickdraw_dataset/full/numpy_bitmap/smiley%20face.npy\n",
            "downloading: https://storage.googleapis.com/quickdraw_dataset/full/numpy_bitmap/snail.npy\n",
            "downloading: https://storage.googleapis.com/quickdraw_dataset/full/numpy_bitmap/snake.npy\n",
            "downloading: https://storage.googleapis.com/quickdraw_dataset/full/numpy_bitmap/snorkel.npy\n",
            "downloading: https://storage.googleapis.com/quickdraw_dataset/full/numpy_bitmap/snowflake.npy\n",
            "downloading: https://storage.googleapis.com/quickdraw_dataset/full/numpy_bitmap/snowman.npy\n",
            "downloading: https://storage.googleapis.com/quickdraw_dataset/full/numpy_bitmap/soccer%20ball.npy\n",
            "downloading: https://storage.googleapis.com/quickdraw_dataset/full/numpy_bitmap/sock.npy\n",
            "downloading: https://storage.googleapis.com/quickdraw_dataset/full/numpy_bitmap/speedboat.npy\n",
            "downloading: https://storage.googleapis.com/quickdraw_dataset/full/numpy_bitmap/spider.npy\n",
            "downloading: https://storage.googleapis.com/quickdraw_dataset/full/numpy_bitmap/spoon.npy\n",
            "downloading: https://storage.googleapis.com/quickdraw_dataset/full/numpy_bitmap/spreadsheet.npy\n",
            "downloading: https://storage.googleapis.com/quickdraw_dataset/full/numpy_bitmap/square.npy\n",
            "downloading: https://storage.googleapis.com/quickdraw_dataset/full/numpy_bitmap/stairs.npy\n",
            "downloading: https://storage.googleapis.com/quickdraw_dataset/full/numpy_bitmap/star.npy\n",
            "downloading: https://storage.googleapis.com/quickdraw_dataset/full/numpy_bitmap/steak.npy\n",
            "downloading: https://storage.googleapis.com/quickdraw_dataset/full/numpy_bitmap/stitches.npy\n",
            "downloading: https://storage.googleapis.com/quickdraw_dataset/full/numpy_bitmap/stop%20sign.npy\n",
            "downloading: https://storage.googleapis.com/quickdraw_dataset/full/numpy_bitmap/stove.npy\n",
            "downloading: https://storage.googleapis.com/quickdraw_dataset/full/numpy_bitmap/strawberry.npy\n",
            "downloading: https://storage.googleapis.com/quickdraw_dataset/full/numpy_bitmap/streetlight.npy\n",
            "downloading: https://storage.googleapis.com/quickdraw_dataset/full/numpy_bitmap/sun.npy\n",
            "downloading: https://storage.googleapis.com/quickdraw_dataset/full/numpy_bitmap/sword.npy\n",
            "downloading: https://storage.googleapis.com/quickdraw_dataset/full/numpy_bitmap/table.npy\n",
            "downloading: https://storage.googleapis.com/quickdraw_dataset/full/numpy_bitmap/teddy-bear.npy\n",
            "downloading: https://storage.googleapis.com/quickdraw_dataset/full/numpy_bitmap/telephone.npy\n",
            "downloading: https://storage.googleapis.com/quickdraw_dataset/full/numpy_bitmap/television.npy\n",
            "downloading: https://storage.googleapis.com/quickdraw_dataset/full/numpy_bitmap/toe.npy\n",
            "downloading: https://storage.googleapis.com/quickdraw_dataset/full/numpy_bitmap/toilet.npy\n",
            "downloading: https://storage.googleapis.com/quickdraw_dataset/full/numpy_bitmap/toothbrush.npy\n",
            "downloading: https://storage.googleapis.com/quickdraw_dataset/full/numpy_bitmap/train.npy\n",
            "downloading: https://storage.googleapis.com/quickdraw_dataset/full/numpy_bitmap/tree.npy\n",
            "downloading: https://storage.googleapis.com/quickdraw_dataset/full/numpy_bitmap/triangle.npy\n",
            "downloading: https://storage.googleapis.com/quickdraw_dataset/full/numpy_bitmap/t-shirt.npy\n",
            "downloading: https://storage.googleapis.com/quickdraw_dataset/full/numpy_bitmap/umbrella.npy\n",
            "downloading: https://storage.googleapis.com/quickdraw_dataset/full/numpy_bitmap/vase.npy\n",
            "downloading: https://storage.googleapis.com/quickdraw_dataset/full/numpy_bitmap/violin.npy\n",
            "downloading: https://storage.googleapis.com/quickdraw_dataset/full/numpy_bitmap/watermelon.npy\n",
            "downloading: https://storage.googleapis.com/quickdraw_dataset/full/numpy_bitmap/zebra.npy\n",
            "total  168 files\n"
          ],
          "name": "stdout"
        }
      ]
    },
    {
      "metadata": {
        "id": "NKV1uVoWChDE",
        "colab_type": "code",
        "colab": {
          "base_uri": "https://localhost:8080/",
          "height": 731
        },
        "outputId": "7100d678-64df-4406-f349-776a9691a6b2"
      },
      "cell_type": "code",
      "source": [
        "!ls data"
      ],
      "execution_count": 0,
      "outputs": [
        {
          "output_type": "stream",
          "text": [
            "airplane.npy\t   cow.npy\t\tkeyboard.npy\tschool_bus.npy\r\n",
            "alarm_clock.npy    crown.npy\t\tkey.npy\t\tshark.npy\r\n",
            "ambulance.npy\t   cup.npy\t\tknee.npy\tsheep.npy\r\n",
            "angel.npy\t   diamond.npy\t\tknife.npy\tsmiley_face.npy\r\n",
            "ant.npy\t\t   dog.npy\t\tladder.npy\tsnail.npy\r\n",
            "apple.npy\t   dolphin.npy\t\tlaptop.npy\tsnake.npy\r\n",
            "arm.npy\t\t   door.npy\t\tleaf.npy\tsnorkel.npy\r\n",
            "axe.npy\t\t   dragon.npy\t\tleg.npy\t\tsnowflake.npy\r\n",
            "banana.npy\t   dresser.npy\t\tlight_bulb.npy\tsnowman.npy\r\n",
            "baseball.npy\t   ear.npy\t\tlighter.npy\tsoccer_ball.npy\r\n",
            "basketball.npy\t   elephant.npy\t\tlighthouse.npy\tsock.npy\r\n",
            "basket.npy\t   envelope.npy\t\tline.npy\tspeedboat.npy\r\n",
            "bat.npy\t\t   eraser.npy\t\tlion.npy\tspider.npy\r\n",
            "beach.npy\t   eyeglasses.npy\tmailbox.npy\tspoon.npy\r\n",
            "beard.npy\t   eye.npy\t\tmap.npy\t\tspreadsheet.npy\r\n",
            "bear.npy\t   face.npy\t\tmarker.npy\tsquare.npy\r\n",
            "bed.npy\t\t   fan.npy\t\tmonkey.npy\tstairs.npy\r\n",
            "bee.npy\t\t   finger.npy\t\tmoon.npy\tstar.npy\r\n",
            "bicycle.npy\t   fish.npy\t\tmountain.npy\tsteak.npy\r\n",
            "bird.npy\t   flower.npy\t\tmouse.npy\tstitches.npy\r\n",
            "birthday_cake.npy  foot.npy\t\tmouth.npy\tstop_sign.npy\r\n",
            "book.npy\t   frog.npy\t\tnail.npy\tstove.npy\r\n",
            "bottlecap.npy\t   garden.npy\t\tnose.npy\tstrawberry.npy\r\n",
            "brain.npy\t   giraffe.npy\t\tocean.npy\tstreetlight.npy\r\n",
            "bread.npy\t   grapes.npy\t\tpeanut.npy\tsun.npy\r\n",
            "bridge.npy\t   grass.npy\t\tpencil.npy\tsword.npy\r\n",
            "bucket.npy\t   guitar.npy\t\tpiano.npy\ttable.npy\r\n",
            "bush.npy\t   hamburger.npy\tpig.npy\t\tteddy-bear.npy\r\n",
            "bus.npy\t\t   hand.npy\t\tpillow.npy\ttelephone.npy\r\n",
            "butterfly.npy\t   hat.npy\t\tpineapple.npy\ttelevision.npy\r\n",
            "cake.npy\t   headphones.npy\tpizza.npy\ttoe.npy\r\n",
            "camera.npy\t   hedgehog.npy\t\tpotato.npy\ttoilet.npy\r\n",
            "car.npy\t\t   helicopter.npy\trabbit.npy\ttoothbrush.npy\r\n",
            "carrot.npy\t   helmet.npy\t\traccoon.npy\ttrain.npy\r\n",
            "cat.npy\t\t   horse.npy\t\tradio.npy\ttree.npy\r\n",
            "cell_phone.npy\t   hospital.npy\t\trainbow.npy\ttriangle.npy\r\n",
            "chair.npy\t   hot_air_balloon.npy\train.npy\tt-shirt.npy\r\n",
            "circle.npy\t   house.npy\t\trake.npy\tumbrella.npy\r\n",
            "clock.npy\t   ice_cream.npy\trifle.npy\tvase.npy\r\n",
            "coffee_cup.npy\t   jacket.npy\t\triver.npy\tviolin.npy\r\n",
            "computer.npy\t   jail.npy\t\tsailboat.npy\twatermelon.npy\r\n",
            "cookie.npy\t   kangaroo.npy\t\tsandwich.npy\tzebra.npy\r\n"
          ],
          "name": "stdout"
        }
      ]
    },
    {
      "metadata": {
        "id": "gJeykfpCdK0P",
        "colab_type": "text"
      },
      "cell_type": "markdown",
      "source": [
        "## Load all data from files"
      ]
    },
    {
      "metadata": {
        "id": "dVB9yAPnCh4n",
        "colab_type": "code",
        "colab": {
          "base_uri": "https://localhost:8080/",
          "height": 34
        },
        "outputId": "7a899e4a-dd8f-4baa-ecfc-b590c53ad73d"
      },
      "cell_type": "code",
      "source": [
        "import glob\n",
        "from tqdm import tqdm\n",
        "import numpy as np\n",
        "\n",
        "sample_size = 3000\n",
        "data_find_path = os.path.join('data', '*.npy')\n",
        "#print(data_find_path)\n",
        "\n",
        "\n",
        "all_files = glob.glob(data_find_path) #透過副檔名匹配找到所有符合的檔案\n",
        "\n",
        "# initialize variables\n",
        "x = np.empty([0, 784])\n",
        "y = np.empty([0])\n",
        "class_names = []\n",
        "\n",
        "for idx, file in tqdm(enumerate(all_files)):\n",
        "    data = np.load(file)\n",
        "    data = data[0 : sample_size, :] #取出sample_size筆data\n",
        "    labels = np.full(sample_size, idx) #根據idx命名labels\n",
        "\n",
        "    x = np.r_[x, data]\n",
        "    y = np.r_[y, labels]\n",
        "    \n",
        "    class_name, _ = os.path.splitext(os.path.basename(file)) #取出檔名\n",
        "    class_names.append(class_name)\n",
        "\n",
        "# free memory\n",
        "data = None\n",
        "labels = None"
      ],
      "execution_count": 0,
      "outputs": [
        {
          "output_type": "stream",
          "text": [
            "168it [03:08,  1.12s/it]\n"
          ],
          "name": "stderr"
        }
      ]
    },
    {
      "metadata": {
        "id": "5_N03HUPYh1Q",
        "colab_type": "code",
        "colab": {
          "base_uri": "https://localhost:8080/",
          "height": 34
        },
        "outputId": "8bd31b28-61be-4c6b-8761-973c8387932d"
      },
      "cell_type": "code",
      "source": [
        "print(x.shape, y.shape)"
      ],
      "execution_count": 0,
      "outputs": [
        {
          "output_type": "stream",
          "text": [
            "(504000, 784) (504000,)\n"
          ],
          "name": "stdout"
        }
      ]
    },
    {
      "metadata": {
        "id": "sDevxbP1CiL4",
        "colab_type": "text"
      },
      "cell_type": "markdown",
      "source": [
        "## Split data into training & testing data"
      ]
    },
    {
      "metadata": {
        "id": "JFjbzZxjdT-U",
        "colab_type": "code",
        "colab": {
          "base_uri": "https://localhost:8080/",
          "height": 68
        },
        "outputId": "8ef30b36-0af9-4403-ae32-b9182d411e78"
      },
      "cell_type": "code",
      "source": [
        "from sklearn.model_selection import train_test_split\n",
        "'''\n",
        "#幹 自幹完才發現sklearn自帶shuffle參數\n",
        "\n",
        "# shuffle data\n",
        "# random.shuffle不會返回值，permutation參數如果是一個數字會返回[0, 數字]的亂數array\n",
        "# 這樣就不用先合併xy，shuffle後再切開\n",
        "shuffle_permutation_index = np.random.permutation(x.shape[0])\n",
        "x = x[shuffle_permutation_index, :]\n",
        "y = y[shuffle_permutation_index]\n",
        "'''\n",
        "\n",
        "#split data\n",
        "X_train, X_test, y_train, y_test = train_test_split(x, y, train_size = 0.8, shuffle = True)\n",
        "print('training size:', X_train.shape[0], 'Testing size:', X_test.shape[0])"
      ],
      "execution_count": 0,
      "outputs": [
        {
          "output_type": "stream",
          "text": [
            "/usr/local/lib/python3.6/dist-packages/sklearn/model_selection/_split.py:2026: FutureWarning: From version 0.21, test_size will always complement train_size unless both are specified.\n",
            "  FutureWarning)\n"
          ],
          "name": "stderr"
        },
        {
          "output_type": "stream",
          "text": [
            "training size: 403200 Testing size: 100800\n"
          ],
          "name": "stdout"
        }
      ]
    },
    {
      "metadata": {
        "id": "FK9BIQm_pyCV",
        "colab_type": "text"
      },
      "cell_type": "markdown",
      "source": [
        "## Visualization"
      ]
    },
    {
      "metadata": {
        "id": "QMzvQCdqe9n9",
        "colab_type": "code",
        "colab": {
          "base_uri": "https://localhost:8080/",
          "height": 364
        },
        "outputId": "68694eba-1bf2-4bfb-99ac-5a314a23ac65"
      },
      "cell_type": "code",
      "source": [
        "import matplotlib.pyplot as plt\n",
        "from random import randint\n",
        "# 隨機印出一張圖片\n",
        "idx = randint(0, len(X_train))\n",
        "plt.imshow(X_train[idx].reshape(28, 28))\n",
        "plt.show()\n",
        "print(class_names[int(y_train[idx])])"
      ],
      "execution_count": 0,
      "outputs": [
        {
          "output_type": "display_data",
          "data": {
            "image/png": "[encoded data removed]",
            "text/plain": [
              "<matplotlib.figure.Figure at 0x7efefb8036a0>"
            ]
          },
          "metadata": {
            "tags": []
          }
        },
        {
          "output_type": "stream",
          "text": [
            "bus\n"
          ],
          "name": "stdout"
        }
      ]
    },
    {
      "metadata": {
        "id": "hLJ5hlVsgKc3",
        "colab_type": "code",
        "colab": {
          "base_uri": "https://localhost:8080/",
          "height": 493
        },
        "outputId": "bbcd5350-cd54-48e0-ae0d-42cf30f22d8b"
      },
      "cell_type": "code",
      "source": [
        "def plot_imgs_labels(x, y, prediction, num = 10):\n",
        "    fig = plt.gcf()\n",
        "    fig.set_size_inches(12, 14)\n",
        "    for i in range(0, num):\n",
        "        ax = plt.subplot(5, 5, i+1)\n",
        "        ax.imshow(x[i].reshape(28, 28))\n",
        "        labels = class_names[int(y[i])]\n",
        "        titles = 'labels: '+labels\n",
        "        if len(prediction) > 0:\n",
        "            titles += '\\nprediction: '+class_names[int(prediction[i])]\n",
        "        ax.set_title(titles)\n",
        "plot_imgs_labels(X_train, y_train, [], 15)"
      ],
      "execution_count": 0,
      "outputs": [
        {
          "output_type": "display_data",
          "data": {
            "image/png": "[encoded data removed]",
            "text/plain": [
              "<matplotlib.figure.Figure at 0x7efefaf41240>"
            ]
          },
          "metadata": {
            "tags": []
          }
        }
      ]
    },
    {
      "metadata": {
        "id": "rxOp9YGnp3KR",
        "colab_type": "text"
      },
      "cell_type": "markdown",
      "source": [
        "## Training"
      ]
    },
    {
      "metadata": {
        "id": "Ht7OT_7NqC4E",
        "colab_type": "code",
        "colab": {}
      },
      "cell_type": "code",
      "source": [
        "from keras.utils import to_categorical\n",
        "# reshape img size\n",
        "X_train_reshape = X_train.reshape(X_train.shape[0], 28, 28, 1).astype('float32')\n",
        "X_test_reshape = X_test.reshape(X_test.shape[0], 28, 28, 1).astype('float32')\n",
        "\n",
        "# Normalization\n",
        "X_train_reshape_normalize = X_train_reshape / 255.0\n",
        "X_test_reshape_normalize = X_test_reshape / 255.0\n",
        "\n",
        "# One-hot encoding\n",
        "y_train_one_hot = to_categorical(y_train, len(class_names))\n",
        "y_test_one_hot = to_categorical(y_test, len(class_names))"
      ],
      "execution_count": 0,
      "outputs": []
    },
    {
      "metadata": {
        "id": "YDVL3Jcms3ft",
        "colab_type": "code",
        "colab": {
          "base_uri": "https://localhost:8080/",
          "height": 34
        },
        "outputId": "1a4e2c89-f9fb-4108-9f97-8dac92981946"
      },
      "cell_type": "code",
      "source": [
        "X_train_reshape_normalize.shape[:]"
      ],
      "execution_count": 0,
      "outputs": [
        {
          "output_type": "execute_result",
          "data": {
            "text/plain": [
              "(312000, 28, 28, 1)"
            ]
          },
          "metadata": {
            "tags": []
          },
          "execution_count": 26
        }
      ]
    },
    {
      "metadata": {
        "id": "bL5qiDywrjqZ",
        "colab_type": "code",
        "colab": {
          "base_uri": "https://localhost:8080/",
          "height": 510
        },
        "outputId": "3961be97-13ef-4c0d-c25a-17f34d1d48b5"
      },
      "cell_type": "code",
      "source": [
        "from keras.models import Sequential\n",
        "from keras.layers import Convolution2D, MaxPooling2D, Flatten, Dense, Dropout\n",
        "\n",
        "model = Sequential()\n",
        "\n",
        "#convolution layers\n",
        "model.add(Convolution2D(16, (3, 3), \n",
        "                  padding='same', \n",
        "                  input_shape=X_test_reshape_normalize.shape[1:],\n",
        "                  activation='relu'))\n",
        "model.add(MaxPooling2D(pool_size=(2, 2)))\n",
        "model.add(Convolution2D(32, (3,3),padding='same',activation='relu'))\n",
        "model.add(MaxPooling2D(pool_size=(2, 2)))\n",
        "model.add(Convolution2D(64, (3,3),padding='same',activation='relu'))\n",
        "model.add(MaxPooling2D(pool_size=(2, 2)))\n",
        "model.add(Flatten())\n",
        "\n",
        "# full connection layers\n",
        "model.add(Dense(128, activation='relu'))\n",
        "model.add(Dropout(0.2))\n",
        "model.add(Dense(256, activation='relu'))\n",
        "model.add(Dense(len(class_names), activation='softmax'))\n",
        "\n",
        "model.summary()"
      ],
      "execution_count": 0,
      "outputs": [
        {
          "output_type": "stream",
          "text": [
            "_________________________________________________________________\n",
            "Layer (type)                 Output Shape              Param #   \n",
            "=================================================================\n",
            "conv2d_1 (Conv2D)            (None, 28, 28, 16)        160       \n",
            "_________________________________________________________________\n",
            "max_pooling2d_1 (MaxPooling2 (None, 14, 14, 16)        0         \n",
            "_________________________________________________________________\n",
            "conv2d_2 (Conv2D)            (None, 14, 14, 32)        4640      \n",
            "_________________________________________________________________\n",
            "max_pooling2d_2 (MaxPooling2 (None, 7, 7, 32)          0         \n",
            "_________________________________________________________________\n",
            "conv2d_3 (Conv2D)            (None, 7, 7, 64)          18496     \n",
            "_________________________________________________________________\n",
            "max_pooling2d_3 (MaxPooling2 (None, 3, 3, 64)          0         \n",
            "_________________________________________________________________\n",
            "flatten_1 (Flatten)          (None, 576)               0         \n",
            "_________________________________________________________________\n",
            "dense_1 (Dense)              (None, 128)               73856     \n",
            "_________________________________________________________________\n",
            "dropout_1 (Dropout)          (None, 128)               0         \n",
            "_________________________________________________________________\n",
            "dense_2 (Dense)              (None, 256)               33024     \n",
            "_________________________________________________________________\n",
            "dense_3 (Dense)              (None, 168)               43176     \n",
            "=================================================================\n",
            "Total params: 173,352\n",
            "Trainable params: 173,352\n",
            "Non-trainable params: 0\n",
            "_________________________________________________________________\n"
          ],
          "name": "stdout"
        }
      ]
    },
    {
      "metadata": {
        "id": "EtlC2lEnt7Us",
        "colab_type": "code",
        "colab": {
          "base_uri": "https://localhost:8080/",
          "height": 221
        },
        "outputId": "601906f6-2feb-4434-b636-d3c6674831f3"
      },
      "cell_type": "code",
      "source": [
        "model.compile(loss='categorical_crossentropy', optimizer='adam', metrics=['top_k_categorical_accuracy'])\n",
        "model.fit(X_train_reshape_normalize, y_train_one_hot, validation_split= 0.1, batch_size=256, verbose=2, epochs=5)"
      ],
      "execution_count": 0,
      "outputs": [
        {
          "output_type": "stream",
          "text": [
            "Train on 362880 samples, validate on 40320 samples\n",
            "Epoch 1/5\n",
            " - 37s - loss: 2.6683 - top_k_categorical_accuracy: 0.6496 - val_loss: 1.8810 - val_top_k_categorical_accuracy: 0.8028\n",
            "Epoch 2/5\n",
            " - 32s - loss: 1.8859 - top_k_categorical_accuracy: 0.8043 - val_loss: 1.6061 - val_top_k_categorical_accuracy: 0.8453\n",
            "Epoch 3/5\n",
            " - 32s - loss: 1.6862 - top_k_categorical_accuracy: 0.8340 - val_loss: 1.4773 - val_top_k_categorical_accuracy: 0.8611\n",
            "Epoch 4/5\n",
            " - 32s - loss: 1.5739 - top_k_categorical_accuracy: 0.8501 - val_loss: 1.3750 - val_top_k_categorical_accuracy: 0.8738\n",
            "Epoch 5/5\n",
            " - 30s - loss: 1.4962 - top_k_categorical_accuracy: 0.8602 - val_loss: 1.3355 - val_top_k_categorical_accuracy: 0.8780\n"
          ],
          "name": "stdout"
        },
        {
          "output_type": "execute_result",
          "data": {
            "text/plain": [
              "<keras.callbacks.History at 0x7eff00a849e8>"
            ]
          },
          "metadata": {
            "tags": []
          },
          "execution_count": 18
        }
      ]
    },
    {
      "metadata": {
        "id": "sa1iqvwPxfTK",
        "colab_type": "code",
        "colab": {
          "base_uri": "https://localhost:8080/",
          "height": 34
        },
        "outputId": "db677298-229a-442a-88d6-7678129706df"
      },
      "cell_type": "code",
      "source": [
        "score = model.evaluate(X_test_reshape_normalize, y_test_one_hot, verbose=2)\n",
        "score"
      ],
      "execution_count": 0,
      "outputs": [
        {
          "output_type": "execute_result",
          "data": {
            "text/plain": [
              "[1.3277616614103318, 0.8802281746031746]"
            ]
          },
          "metadata": {
            "tags": []
          },
          "execution_count": 19
        }
      ]
    },
    {
      "metadata": {
        "id": "1k-ZMz7N00tj",
        "colab_type": "code",
        "colab": {
          "base_uri": "https://localhost:8080/",
          "height": 507
        },
        "outputId": "0d5b68af-4eae-43da-dc00-f12626020b68"
      },
      "cell_type": "code",
      "source": [
        "prediction = model.predict_classes(X_test_reshape_normalize[:15])\n",
        "plot_imgs_labels(X_test, y_test, prediction, 15)"
      ],
      "execution_count": 0,
      "outputs": [
        {
          "output_type": "display_data",
          "data": {
            "image/png": "[encoded data removed]",
            "text/plain": [
              "<matplotlib.figure.Figure at 0x7efefb913240>"
            ]
          },
          "metadata": {
            "tags": []
          }
        }
      ]
    },
    {
      "metadata": {
        "id": "vu5PmLyz01OO",
        "colab_type": "code",
        "colab": {
          "base_uri": "https://localhost:8080/",
          "height": 381
        },
        "outputId": "ec745e9f-d047-4c35-fb1d-b0d11f4b9d28"
      },
      "cell_type": "code",
      "source": [
        "  # 隨機印出一張圖片，猜測前五項\n",
        "idx = randint(0, len(X_test))\n",
        "plt.imshow(X_test[idx].reshape(28, 28))\n",
        "plt.show()\n",
        "print(class_names[int(y_test[idx])])\n",
        "pred = model.predict(X_test_reshape_normalize[idx : idx+1])\n",
        "#print(pred)\n",
        "k = 5\n",
        "fir_k_categorical_idx = (-pred).argsort()[0][:k]\n",
        "[ class_names[i] for i in fir_k_categorical_idx ]"
      ],
      "execution_count": 0,
      "outputs": [
        {
          "output_type": "display_data",
          "data": {
            "image/png": "[encoded data removed]",
            "text/plain": [
              "<matplotlib.figure.Figure at 0x7efef7efc3c8>"
            ]
          },
          "metadata": {
            "tags": []
          }
        },
        {
          "output_type": "stream",
          "text": [
            "arm\n"
          ],
          "name": "stdout"
        },
        {
          "output_type": "execute_result",
          "data": {
            "text/plain": [
              "['arm', 'speedboat', 'dolphin', 'shark', 'snake']"
            ]
          },
          "metadata": {
            "tags": []
          },
          "execution_count": 51
        }
      ]
    },
    {
      "metadata": {
        "id": "9CsJP3476jkN",
        "colab_type": "code",
        "colab": {}
      },
      "cell_type": "code",
      "source": [
        "# store class_names.txt\n",
        "with open('class_names.txt', 'w') as file_handler:\n",
        "    for item in class_names:\n",
        "        file_handler.write(\"{}\\n\".format(item))"
      ],
      "execution_count": 0,
      "outputs": []
    },
    {
      "metadata": {
        "id": "f30hvPDSynEL",
        "colab_type": "code",
        "colab": {}
      },
      "cell_type": "code",
      "source": [
        "!rm model -r"
      ],
      "execution_count": 0,
      "outputs": []
    },
    {
      "metadata": {
        "id": "CBWIr6iTDGKu",
        "colab_type": "text"
      },
      "cell_type": "markdown",
      "source": [
        "## Install TensorFlowJS"
      ]
    },
    {
      "metadata": {
        "id": "rTLirfD6DDqu",
        "colab_type": "code",
        "colab": {
          "base_uri": "https://localhost:8080/",
          "height": 357
        },
        "outputId": "ed64cfcd-e920-40be-e51a-055391df36d6"
      },
      "cell_type": "code",
      "source": [
        "!pip install tensorflowjs"
      ],
      "execution_count": 0,
      "outputs": [
        {
          "output_type": "stream",
          "text": [
            "Requirement already satisfied: tensorflowjs in /usr/local/lib/python3.6/dist-packages (0.5.6)\r\n",
            "Requirement already satisfied: numpy==1.14.1 in /usr/local/lib/python3.6/dist-packages (from tensorflowjs) (1.14.1)\r\n",
            "Requirement already satisfied: six==1.11.0 in /usr/local/lib/python3.6/dist-packages (from tensorflowjs) (1.11.0)\r\n",
            "Requirement already satisfied: h5py==2.8.0 in /usr/local/lib/python3.6/dist-packages (from tensorflowjs) (2.8.0)\r\n",
            "Requirement already satisfied: tensorflow==1.9.0 in /usr/local/lib/python3.6/dist-packages (from tensorflowjs) (1.9.0)\r\n",
            "Requirement already satisfied: tensorflow-hub==0.1.0 in /usr/local/lib/python3.6/dist-packages (from tensorflowjs) (0.1.0)\r\n",
            "Requirement already satisfied: keras==2.1.6 in /usr/local/lib/python3.6/dist-packages (from tensorflowjs) (2.1.6)\n",
            "Requirement already satisfied: absl-py>=0.1.6 in /usr/local/lib/python3.6/dist-packages (from tensorflow==1.9.0->tensorflowjs) (0.3.0)\n",
            "Requirement already satisfied: astor>=0.6.0 in /usr/local/lib/python3.6/dist-packages (from tensorflow==1.9.0->tensorflowjs) (0.7.1)\n",
            "Requirement already satisfied: gast>=0.2.0 in /usr/local/lib/python3.6/dist-packages (from tensorflow==1.9.0->tensorflowjs) (0.2.0)\n",
            "Requirement already satisfied: protobuf>=3.4.0 in /usr/local/lib/python3.6/dist-packages (from tensorflow==1.9.0->tensorflowjs) (3.6.0)\n",
            "Requirement already satisfied: wheel>=0.26 in /usr/local/lib/python3.6/dist-packages (from tensorflow==1.9.0->tensorflowjs) (0.31.1)\n",
            "Requirement already satisfied: grpcio>=1.8.6 in /usr/local/lib/python3.6/dist-packages (from tensorflow==1.9.0->tensorflowjs) (1.14.1)\n",
            "Requirement already satisfied: tensorboard<1.10.0,>=1.9.0 in /usr/local/lib/python3.6/dist-packages (from tensorflow==1.9.0->tensorflowjs) (1.9.0)\n",
            "Requirement already satisfied: termcolor>=1.1.0 in /usr/local/lib/python3.6/dist-packages (from tensorflow==1.9.0->tensorflowjs) (1.1.0)\n",
            "Requirement already satisfied: setuptools<=39.1.0 in /usr/local/lib/python3.6/dist-packages (from tensorflow==1.9.0->tensorflowjs) (39.1.0)\n",
            "Requirement already satisfied: pyyaml in /usr/local/lib/python3.6/dist-packages (from keras==2.1.6->tensorflowjs) (3.13)\n",
            "Requirement already satisfied: scipy>=0.14 in /usr/local/lib/python3.6/dist-packages (from keras==2.1.6->tensorflowjs) (0.19.1)\n",
            "Requirement already satisfied: markdown>=2.6.8 in /usr/local/lib/python3.6/dist-packages (from tensorboard<1.10.0,>=1.9.0->tensorflow==1.9.0->tensorflowjs) (2.6.11)\n",
            "Requirement already satisfied: werkzeug>=0.11.10 in /usr/local/lib/python3.6/dist-packages (from tensorboard<1.10.0,>=1.9.0->tensorflow==1.9.0->tensorflowjs) (0.14.1)\n"
          ],
          "name": "stdout"
        }
      ]
    },
    {
      "metadata": {
        "id": "_jJtqTOgDKXY",
        "colab_type": "code",
        "colab": {}
      },
      "cell_type": "code",
      "source": [
        "model.save('keras_quickdraw.model')"
      ],
      "execution_count": 0,
      "outputs": []
    },
    {
      "metadata": {
        "id": "Mb-31XnRDT55",
        "colab_type": "code",
        "colab": {}
      },
      "cell_type": "code",
      "source": [
        "!mkdir model"
      ],
      "execution_count": 0,
      "outputs": []
    },
    {
      "metadata": {
        "id": "6Io2vu6lDd2E",
        "colab_type": "code",
        "colab": {
          "base_uri": "https://localhost:8080/",
          "height": 34
        },
        "outputId": "3d9313fc-60db-4a2d-c9a4-314a114070ae"
      },
      "cell_type": "code",
      "source": [
        "!tensorflowjs_converter --input_format keras keras_quickdraw.model model/"
      ],
      "execution_count": 0,
      "outputs": [
        {
          "output_type": "stream",
          "text": [
            "Using TensorFlow backend.\r\n"
          ],
          "name": "stdout"
        }
      ]
    },
    {
      "metadata": {
        "id": "Y8ixueSlDpJh",
        "colab_type": "code",
        "colab": {}
      },
      "cell_type": "code",
      "source": [
        "!cp class_names.txt model/class_names.txt"
      ],
      "execution_count": 0,
      "outputs": []
    },
    {
      "metadata": {
        "id": "yojvtD0QD1TA",
        "colab_type": "code",
        "colab": {
          "base_uri": "https://localhost:8080/",
          "height": 170
        },
        "outputId": "f9f36451-a223-4e73-8e5a-5aa5a9987d61"
      },
      "cell_type": "code",
      "source": [
        "!zip -r model.zip model"
      ],
      "execution_count": 0,
      "outputs": [
        {
          "output_type": "stream",
          "text": [
            "updating: model/ (stored 0%)\r\n",
            "updating: model/group5-shard1of1 (deflated 7%)\r\n",
            "updating: model/group3-shard1of1 (deflated 7%)\r\n",
            "updating: model/model.json (deflated 84%)\r\n",
            "updating: model/group1-shard1of1 (stored 0%)\r\n",
            "updating: model/group2-shard1of1 (deflated 7%)\r\n",
            "updating: model/class_names.txt (deflated 44%)\r\n",
            "updating: model/group4-shard1of1 (deflated 7%)\r\n",
            "updating: model/group6-shard1of1 (deflated 7%)\r\n"
          ],
          "name": "stdout"
        }
      ]
    },
    {
      "metadata": {
        "id": "y6tG_EuoD76Y",
        "colab_type": "code",
        "colab": {}
      },
      "cell_type": "code",
      "source": [
        "from google.colab import files\n",
        "files.download('model.zip')"
      ],
      "execution_count": 0,
      "outputs": []
    },
    {
      "metadata": {
        "id": "ZS_U4AgxkOci",
        "colab_type": "code",
        "colab": {}
      },
      "cell_type": "code",
      "source": [
        ""
      ],
      "execution_count": 0,
      "outputs": []
    }
  ]
}