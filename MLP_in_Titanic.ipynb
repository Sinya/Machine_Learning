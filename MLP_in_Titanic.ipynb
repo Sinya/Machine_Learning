{
  "nbformat": 4,
  "nbformat_minor": 0,
  "metadata": {
    "colab": {
      "name": "MLP in Titanic",
      "version": "0.3.2",
      "views": {},
      "default_view": {},
      "provenance": []
    },
    "kernelspec": {
      "name": "python2",
      "display_name": "Python 2"
    },
    "accelerator": "GPU"
  },
  "cells": [
    {
      "metadata": {
        "id": "TvkRk0xJyn6x",
        "colab_type": "text"
      },
      "cell_type": "markdown",
      "source": [
        "# MLP in Titanic"
      ]
    },
    {
      "metadata": {
        "id": "H_N8YBN6gU6X",
        "colab_type": "text"
      },
      "cell_type": "markdown",
      "source": [
        "## Load Data"
      ]
    },
    {
      "metadata": {
        "id": "MU52Es9A1MjF",
        "colab_type": "code",
        "colab": {
          "autoexec": {
            "startup": false,
            "wait_interval": 0
          },
          "base_uri": "https://localhost:8080/",
          "height": 34
        },
        "outputId": "cdd738e1-79de-4fdd-9401-56614f35cc0d",
        "executionInfo": {
          "status": "ok",
          "timestamp": 1531850723124,
          "user_tz": -480,
          "elapsed": 2452,
          "user": {
            "displayName": "孫茂勛",
            "photoUrl": "//lh5.googleusercontent.com/-fwPNacY3FN8/AAAAAAAAAAI/AAAAAAAAKxo/Dxm12V3_B40/s50-c-k-no/photo.jpg",
            "userId": "101179967937215867417"
          }
        }
      },
      "cell_type": "code",
      "source": [
        "!pip install xlrd"
      ],
      "execution_count": 0,
      "outputs": [
        {
          "output_type": "stream",
          "text": [
            "Requirement already satisfied: xlrd in /usr/local/lib/python2.7/dist-packages (1.1.0)\r\n"
          ],
          "name": "stdout"
        }
      ]
    },
    {
      "metadata": {
        "id": "FmDdX7zCypa7",
        "colab_type": "code",
        "colab": {
          "autoexec": {
            "startup": false,
            "wait_interval": 0
          }
        }
      },
      "cell_type": "code",
      "source": [
        "import os\n",
        "import urllib\n",
        "url = \"http://biostat.mc.vanderbilt.edu/wiki/pub/Main/DataSets/titanic3.xls\"\n",
        "filepath = \"titanic3.xls\"\n",
        "\n",
        "if not os.path.isfile(filepath):\n",
        "  result = urllib.urlretrieve(url, filepath)"
      ],
      "execution_count": 0,
      "outputs": []
    },
    {
      "metadata": {
        "id": "WHhSMwzt0geM",
        "colab_type": "code",
        "colab": {
          "autoexec": {
            "startup": false,
            "wait_interval": 0
          }
        }
      },
      "cell_type": "code",
      "source": [
        "import numpy\n",
        "import pandas as pd"
      ],
      "execution_count": 0,
      "outputs": []
    },
    {
      "metadata": {
        "id": "KT7sq-dC0rRL",
        "colab_type": "code",
        "colab": {
          "autoexec": {
            "startup": false,
            "wait_interval": 0
          }
        }
      },
      "cell_type": "code",
      "source": [
        "all_df = pd.read_excel(filepath)"
      ],
      "execution_count": 0,
      "outputs": []
    },
    {
      "metadata": {
        "id": "WnDDkq0y4WUM",
        "colab_type": "code",
        "colab": {
          "autoexec": {
            "startup": false,
            "wait_interval": 0
          },
          "base_uri": "https://localhost:8080/",
          "height": 530
        },
        "outputId": "8a1353b9-35fc-4fea-aaf8-8416a7f14ed0",
        "executionInfo": {
          "status": "ok",
          "timestamp": 1531850727212,
          "user_tz": -480,
          "elapsed": 581,
          "user": {
            "displayName": "孫茂勛",
            "photoUrl": "//lh5.googleusercontent.com/-fwPNacY3FN8/AAAAAAAAAAI/AAAAAAAAKxo/Dxm12V3_B40/s50-c-k-no/photo.jpg",
            "userId": "101179967937215867417"
          }
        }
      },
      "cell_type": "code",
      "source": [
        "all_df.head()"
      ],
      "execution_count": 0,
      "outputs": [
        {
          "output_type": "execute_result",
          "data": {
            "text/html": [
              "<div>\n",
              "<style scoped>\n",
              "    .dataframe tbody tr th:only-of-type {\n",
              "        vertical-align: middle;\n",
              "    }\n",
              "\n",
              "    .dataframe tbody tr th {\n",
              "        vertical-align: top;\n",
              "    }\n",
              "\n",
              "    .dataframe thead th {\n",
              "        text-align: right;\n",
              "    }\n",
              "</style>\n",
              "<table border=\"1\" class=\"dataframe\">\n",
              "  <thead>\n",
              "    <tr style=\"text-align: right;\">\n",
              "      <th></th>\n",
              "      <th>pclass</th>\n",
              "      <th>survived</th>\n",
              "      <th>name</th>\n",
              "      <th>sex</th>\n",
              "      <th>age</th>\n",
              "      <th>sibsp</th>\n",
              "      <th>parch</th>\n",
              "      <th>ticket</th>\n",
              "      <th>fare</th>\n",
              "      <th>cabin</th>\n",
              "      <th>embarked</th>\n",
              "      <th>boat</th>\n",
              "      <th>body</th>\n",
              "      <th>home.dest</th>\n",
              "    </tr>\n",
              "  </thead>\n",
              "  <tbody>\n",
              "    <tr>\n",
              "      <th>0</th>\n",
              "      <td>1</td>\n",
              "      <td>1</td>\n",
              "      <td>Allen, Miss. Elisabeth Walton</td>\n",
              "      <td>female</td>\n",
              "      <td>29.0000</td>\n",
              "      <td>0</td>\n",
              "      <td>0</td>\n",
              "      <td>24160</td>\n",
              "      <td>211.3375</td>\n",
              "      <td>B5</td>\n",
              "      <td>S</td>\n",
              "      <td>2</td>\n",
              "      <td>NaN</td>\n",
              "      <td>St Louis, MO</td>\n",
              "    </tr>\n",
              "    <tr>\n",
              "      <th>1</th>\n",
              "      <td>1</td>\n",
              "      <td>1</td>\n",
              "      <td>Allison, Master. Hudson Trevor</td>\n",
              "      <td>male</td>\n",
              "      <td>0.9167</td>\n",
              "      <td>1</td>\n",
              "      <td>2</td>\n",
              "      <td>113781</td>\n",
              "      <td>151.5500</td>\n",
              "      <td>C22 C26</td>\n",
              "      <td>S</td>\n",
              "      <td>11</td>\n",
              "      <td>NaN</td>\n",
              "      <td>Montreal, PQ / Chesterville, ON</td>\n",
              "    </tr>\n",
              "    <tr>\n",
              "      <th>2</th>\n",
              "      <td>1</td>\n",
              "      <td>0</td>\n",
              "      <td>Allison, Miss. Helen Loraine</td>\n",
              "      <td>female</td>\n",
              "      <td>2.0000</td>\n",
              "      <td>1</td>\n",
              "      <td>2</td>\n",
              "      <td>113781</td>\n",
              "      <td>151.5500</td>\n",
              "      <td>C22 C26</td>\n",
              "      <td>S</td>\n",
              "      <td>NaN</td>\n",
              "      <td>NaN</td>\n",
              "      <td>Montreal, PQ / Chesterville, ON</td>\n",
              "    </tr>\n",
              "    <tr>\n",
              "      <th>3</th>\n",
              "      <td>1</td>\n",
              "      <td>0</td>\n",
              "      <td>Allison, Mr. Hudson Joshua Creighton</td>\n",
              "      <td>male</td>\n",
              "      <td>30.0000</td>\n",
              "      <td>1</td>\n",
              "      <td>2</td>\n",
              "      <td>113781</td>\n",
              "      <td>151.5500</td>\n",
              "      <td>C22 C26</td>\n",
              "      <td>S</td>\n",
              "      <td>NaN</td>\n",
              "      <td>135.0</td>\n",
              "      <td>Montreal, PQ / Chesterville, ON</td>\n",
              "    </tr>\n",
              "    <tr>\n",
              "      <th>4</th>\n",
              "      <td>1</td>\n",
              "      <td>0</td>\n",
              "      <td>Allison, Mrs. Hudson J C (Bessie Waldo Daniels)</td>\n",
              "      <td>female</td>\n",
              "      <td>25.0000</td>\n",
              "      <td>1</td>\n",
              "      <td>2</td>\n",
              "      <td>113781</td>\n",
              "      <td>151.5500</td>\n",
              "      <td>C22 C26</td>\n",
              "      <td>S</td>\n",
              "      <td>NaN</td>\n",
              "      <td>NaN</td>\n",
              "      <td>Montreal, PQ / Chesterville, ON</td>\n",
              "    </tr>\n",
              "  </tbody>\n",
              "</table>\n",
              "</div>"
            ],
            "text/plain": [
              "   pclass  survived                                             name     sex  \\\n",
              "0       1         1                    Allen, Miss. Elisabeth Walton  female   \n",
              "1       1         1                   Allison, Master. Hudson Trevor    male   \n",
              "2       1         0                     Allison, Miss. Helen Loraine  female   \n",
              "3       1         0             Allison, Mr. Hudson Joshua Creighton    male   \n",
              "4       1         0  Allison, Mrs. Hudson J C (Bessie Waldo Daniels)  female   \n",
              "\n",
              "       age  sibsp  parch  ticket      fare    cabin embarked boat   body  \\\n",
              "0  29.0000      0      0   24160  211.3375       B5        S    2    NaN   \n",
              "1   0.9167      1      2  113781  151.5500  C22 C26        S   11    NaN   \n",
              "2   2.0000      1      2  113781  151.5500  C22 C26        S  NaN    NaN   \n",
              "3  30.0000      1      2  113781  151.5500  C22 C26        S  NaN  135.0   \n",
              "4  25.0000      1      2  113781  151.5500  C22 C26        S  NaN    NaN   \n",
              "\n",
              "                         home.dest  \n",
              "0                     St Louis, MO  \n",
              "1  Montreal, PQ / Chesterville, ON  \n",
              "2  Montreal, PQ / Chesterville, ON  \n",
              "3  Montreal, PQ / Chesterville, ON  \n",
              "4  Montreal, PQ / Chesterville, ON  "
            ]
          },
          "metadata": {
            "tags": []
          },
          "execution_count": 5
        }
      ]
    },
    {
      "metadata": {
        "id": "Y2hBGgWb4Yng",
        "colab_type": "code",
        "colab": {
          "autoexec": {
            "startup": false,
            "wait_interval": 0
          },
          "base_uri": "https://localhost:8080/",
          "height": 204
        },
        "outputId": "8247a16e-ec26-4f76-d896-6bf64ed59778",
        "executionInfo": {
          "status": "ok",
          "timestamp": 1531850728031,
          "user_tz": -480,
          "elapsed": 554,
          "user": {
            "displayName": "孫茂勛",
            "photoUrl": "//lh5.googleusercontent.com/-fwPNacY3FN8/AAAAAAAAAAI/AAAAAAAAKxo/Dxm12V3_B40/s50-c-k-no/photo.jpg",
            "userId": "101179967937215867417"
          }
        }
      },
      "cell_type": "code",
      "source": [
        "# features selection\n",
        "cols = ['survived', 'name', 'pclass', 'sex', 'age', 'sibsp', 'parch', 'fare', 'embarked']\n",
        "all_df = all_df[cols]\n",
        "all_df.head()"
      ],
      "execution_count": 0,
      "outputs": [
        {
          "output_type": "execute_result",
          "data": {
            "text/html": [
              "<div>\n",
              "<style scoped>\n",
              "    .dataframe tbody tr th:only-of-type {\n",
              "        vertical-align: middle;\n",
              "    }\n",
              "\n",
              "    .dataframe tbody tr th {\n",
              "        vertical-align: top;\n",
              "    }\n",
              "\n",
              "    .dataframe thead th {\n",
              "        text-align: right;\n",
              "    }\n",
              "</style>\n",
              "<table border=\"1\" class=\"dataframe\">\n",
              "  <thead>\n",
              "    <tr style=\"text-align: right;\">\n",
              "      <th></th>\n",
              "      <th>survived</th>\n",
              "      <th>name</th>\n",
              "      <th>pclass</th>\n",
              "      <th>sex</th>\n",
              "      <th>age</th>\n",
              "      <th>sibsp</th>\n",
              "      <th>parch</th>\n",
              "      <th>fare</th>\n",
              "      <th>embarked</th>\n",
              "    </tr>\n",
              "  </thead>\n",
              "  <tbody>\n",
              "    <tr>\n",
              "      <th>0</th>\n",
              "      <td>1</td>\n",
              "      <td>Allen, Miss. Elisabeth Walton</td>\n",
              "      <td>1</td>\n",
              "      <td>female</td>\n",
              "      <td>29.0000</td>\n",
              "      <td>0</td>\n",
              "      <td>0</td>\n",
              "      <td>211.3375</td>\n",
              "      <td>S</td>\n",
              "    </tr>\n",
              "    <tr>\n",
              "      <th>1</th>\n",
              "      <td>1</td>\n",
              "      <td>Allison, Master. Hudson Trevor</td>\n",
              "      <td>1</td>\n",
              "      <td>male</td>\n",
              "      <td>0.9167</td>\n",
              "      <td>1</td>\n",
              "      <td>2</td>\n",
              "      <td>151.5500</td>\n",
              "      <td>S</td>\n",
              "    </tr>\n",
              "    <tr>\n",
              "      <th>2</th>\n",
              "      <td>0</td>\n",
              "      <td>Allison, Miss. Helen Loraine</td>\n",
              "      <td>1</td>\n",
              "      <td>female</td>\n",
              "      <td>2.0000</td>\n",
              "      <td>1</td>\n",
              "      <td>2</td>\n",
              "      <td>151.5500</td>\n",
              "      <td>S</td>\n",
              "    </tr>\n",
              "    <tr>\n",
              "      <th>3</th>\n",
              "      <td>0</td>\n",
              "      <td>Allison, Mr. Hudson Joshua Creighton</td>\n",
              "      <td>1</td>\n",
              "      <td>male</td>\n",
              "      <td>30.0000</td>\n",
              "      <td>1</td>\n",
              "      <td>2</td>\n",
              "      <td>151.5500</td>\n",
              "      <td>S</td>\n",
              "    </tr>\n",
              "    <tr>\n",
              "      <th>4</th>\n",
              "      <td>0</td>\n",
              "      <td>Allison, Mrs. Hudson J C (Bessie Waldo Daniels)</td>\n",
              "      <td>1</td>\n",
              "      <td>female</td>\n",
              "      <td>25.0000</td>\n",
              "      <td>1</td>\n",
              "      <td>2</td>\n",
              "      <td>151.5500</td>\n",
              "      <td>S</td>\n",
              "    </tr>\n",
              "  </tbody>\n",
              "</table>\n",
              "</div>"
            ],
            "text/plain": [
              "   survived                                             name  pclass     sex  \\\n",
              "0         1                    Allen, Miss. Elisabeth Walton       1  female   \n",
              "1         1                   Allison, Master. Hudson Trevor       1    male   \n",
              "2         0                     Allison, Miss. Helen Loraine       1  female   \n",
              "3         0             Allison, Mr. Hudson Joshua Creighton       1    male   \n",
              "4         0  Allison, Mrs. Hudson J C (Bessie Waldo Daniels)       1  female   \n",
              "\n",
              "       age  sibsp  parch      fare embarked  \n",
              "0  29.0000      0      0  211.3375        S  \n",
              "1   0.9167      1      2  151.5500        S  \n",
              "2   2.0000      1      2  151.5500        S  \n",
              "3  30.0000      1      2  151.5500        S  \n",
              "4  25.0000      1      2  151.5500        S  "
            ]
          },
          "metadata": {
            "tags": []
          },
          "execution_count": 6
        }
      ]
    },
    {
      "metadata": {
        "id": "9LM8rLlL6AVn",
        "colab_type": "text"
      },
      "cell_type": "markdown",
      "source": [
        "## Data pre-process"
      ]
    },
    {
      "metadata": {
        "id": "1Izdw0j5Fjey",
        "colab_type": "code",
        "colab": {
          "autoexec": {
            "startup": false,
            "wait_interval": 0
          },
          "base_uri": "https://localhost:8080/",
          "height": 187
        },
        "outputId": "51b02700-b2ba-4d33-84c1-e6830e07fb8a",
        "executionInfo": {
          "status": "ok",
          "timestamp": 1531850728912,
          "user_tz": -480,
          "elapsed": 552,
          "user": {
            "displayName": "孫茂勛",
            "photoUrl": "//lh5.googleusercontent.com/-fwPNacY3FN8/AAAAAAAAAAI/AAAAAAAAKxo/Dxm12V3_B40/s50-c-k-no/photo.jpg",
            "userId": "101179967937215867417"
          }
        }
      },
      "cell_type": "code",
      "source": [
        "all_df.isnull().sum()"
      ],
      "execution_count": 0,
      "outputs": [
        {
          "output_type": "execute_result",
          "data": {
            "text/plain": [
              "survived      0\n",
              "name          0\n",
              "pclass        0\n",
              "sex           0\n",
              "age         263\n",
              "sibsp         0\n",
              "parch         0\n",
              "fare          1\n",
              "embarked      2\n",
              "dtype: int64"
            ]
          },
          "metadata": {
            "tags": []
          },
          "execution_count": 7
        }
      ]
    },
    {
      "metadata": {
        "id": "eukJ-BNl4465",
        "colab_type": "code",
        "colab": {
          "autoexec": {
            "startup": false,
            "wait_interval": 0
          }
        }
      },
      "cell_type": "code",
      "source": [
        "from sklearn import preprocessing\n",
        "def PreprocessData(raw_df):\n",
        "  # 1.drop name cols\n",
        "  df = all_df.drop(['name'], axis=1) \n",
        "  \n",
        "  # 2. change null values into average values\n",
        "  age_mean = df['age'].mean() # find average\n",
        "  df['age'] = df['age'].fillna(age_mean)\n",
        "\n",
        "  fare_mean = df['fare'].mean()\n",
        "  df['fare'] = df['fare'].fillna(fare_mean)\n",
        "  \n",
        "  # 3. change sex to binary value \n",
        "  df['sex'] = df['sex'].map({'female': 0, 'male': 1}).astype(int)\n",
        "  \n",
        "  # 4.Encoding embarked with One-Hot Encoding\n",
        "  x_OneHot_df = pd.get_dummies(data = df, columns=['embarked'])\n",
        "  \n",
        "  # 5. Convert Dataframe to Array\n",
        "  ndarray = x_OneHot_df.values\n",
        "  \n",
        "  Label = ndarray[:, 0]\n",
        "  Features = ndarray[:, 1:]\n",
        "  # 6.Normalization\n",
        "  minmax_scale = preprocessing.MinMaxScaler()\n",
        "  scaledFeatures = minmax_scale.fit_transform(Features)\n",
        "  \n",
        "  return scaledFeatures, Label"
      ],
      "execution_count": 0,
      "outputs": []
    },
    {
      "metadata": {
        "id": "MrpicfKEElPk",
        "colab_type": "code",
        "colab": {
          "autoexec": {
            "startup": false,
            "wait_interval": 0
          },
          "base_uri": "https://localhost:8080/",
          "height": 34
        },
        "outputId": "224bb56d-7711-4623-ba9b-b3dba910954a",
        "executionInfo": {
          "status": "ok",
          "timestamp": 1531850730565,
          "user_tz": -480,
          "elapsed": 547,
          "user": {
            "displayName": "孫茂勛",
            "photoUrl": "//lh5.googleusercontent.com/-fwPNacY3FN8/AAAAAAAAAAI/AAAAAAAAKxo/Dxm12V3_B40/s50-c-k-no/photo.jpg",
            "userId": "101179967937215867417"
          }
        }
      },
      "cell_type": "code",
      "source": [
        "# spilt data\n",
        "msk = numpy.random.rand(len(all_df)) < 0.8\n",
        "train_df = all_df[msk]\n",
        "test_df = all_df[~msk]\n",
        "\n",
        "print('trian:', len(train_df), 'test:', len(test_df))\n",
        "\n",
        "train_Features, train_Label = PreprocessData(train_df)\n",
        "test_Features, test_Label = PreprocessData(test_df)"
      ],
      "execution_count": 0,
      "outputs": [
        {
          "output_type": "stream",
          "text": [
            "('trian:', 1042, 'test:', 267)\n"
          ],
          "name": "stdout"
        }
      ]
    },
    {
      "metadata": {
        "id": "6tefSeQYGz8j",
        "colab_type": "code",
        "colab": {
          "autoexec": {
            "startup": false,
            "wait_interval": 0
          },
          "base_uri": "https://localhost:8080/",
          "height": 34
        },
        "outputId": "3430f417-b5f5-4386-bb7c-6df8829b03cc",
        "executionInfo": {
          "status": "ok",
          "timestamp": 1531850731368,
          "user_tz": -480,
          "elapsed": 563,
          "user": {
            "displayName": "孫茂勛",
            "photoUrl": "//lh5.googleusercontent.com/-fwPNacY3FN8/AAAAAAAAAAI/AAAAAAAAKxo/Dxm12V3_B40/s50-c-k-no/photo.jpg",
            "userId": "101179967937215867417"
          }
        }
      },
      "cell_type": "code",
      "source": [
        "train_Label[:3]"
      ],
      "execution_count": 0,
      "outputs": [
        {
          "output_type": "execute_result",
          "data": {
            "text/plain": [
              "array([1., 1., 0.])"
            ]
          },
          "metadata": {
            "tags": []
          },
          "execution_count": 10
        }
      ]
    },
    {
      "metadata": {
        "id": "EdnWhv-8HJqG",
        "colab_type": "text"
      },
      "cell_type": "markdown",
      "source": [
        "## Training Model"
      ]
    },
    {
      "metadata": {
        "id": "MZKW1V2WHMyF",
        "colab_type": "code",
        "colab": {
          "autoexec": {
            "startup": false,
            "wait_interval": 0
          },
          "base_uri": "https://localhost:8080/",
          "height": 34
        },
        "outputId": "bfda626c-5e11-4acb-e761-a374a9b73367",
        "executionInfo": {
          "status": "ok",
          "timestamp": 1531850732837,
          "user_tz": -480,
          "elapsed": 1258,
          "user": {
            "displayName": "孫茂勛",
            "photoUrl": "//lh5.googleusercontent.com/-fwPNacY3FN8/AAAAAAAAAAI/AAAAAAAAKxo/Dxm12V3_B40/s50-c-k-no/photo.jpg",
            "userId": "101179967937215867417"
          }
        }
      },
      "cell_type": "code",
      "source": [
        "from keras.models import Sequential\n",
        "from keras.layers import Dense, Dropout"
      ],
      "execution_count": 0,
      "outputs": [
        {
          "output_type": "stream",
          "text": [
            "Using TensorFlow backend.\n"
          ],
          "name": "stderr"
        }
      ]
    },
    {
      "metadata": {
        "id": "O_XrWA9JL-oQ",
        "colab_type": "code",
        "colab": {
          "autoexec": {
            "startup": false,
            "wait_interval": 0
          },
          "base_uri": "https://localhost:8080/",
          "height": 238
        },
        "outputId": "ecb4561f-bcbc-46bc-94bd-c80aff29db6c",
        "executionInfo": {
          "status": "ok",
          "timestamp": 1531850733572,
          "user_tz": -480,
          "elapsed": 710,
          "user": {
            "displayName": "孫茂勛",
            "photoUrl": "//lh5.googleusercontent.com/-fwPNacY3FN8/AAAAAAAAAAI/AAAAAAAAKxo/Dxm12V3_B40/s50-c-k-no/photo.jpg",
            "userId": "101179967937215867417"
          }
        }
      },
      "cell_type": "code",
      "source": [
        "model = Sequential()\n",
        "model.add(Dense(input_dim = 9, units=40, kernel_initializer='glorot_uniform', activation='relu'))\n",
        "model.add(Dense(units=30, kernel_initializer='glorot_uniform', activation='relu'))\n",
        "model.add(Dense(units=1,kernel_initializer='glorot_uniform', activation='sigmoid'))\n",
        "model.summary()"
      ],
      "execution_count": 0,
      "outputs": [
        {
          "output_type": "stream",
          "text": [
            "_________________________________________________________________\n",
            "Layer (type)                 Output Shape              Param #   \n",
            "=================================================================\n",
            "dense_1 (Dense)              (None, 40)                400       \n",
            "_________________________________________________________________\n",
            "dense_2 (Dense)              (None, 30)                1230      \n",
            "_________________________________________________________________\n",
            "dense_3 (Dense)              (None, 1)                 31        \n",
            "=================================================================\n",
            "Total params: 1,661\n",
            "Trainable params: 1,661\n",
            "Non-trainable params: 0\n",
            "_________________________________________________________________\n"
          ],
          "name": "stdout"
        }
      ]
    },
    {
      "metadata": {
        "id": "3zkKkujhM-Xj",
        "colab_type": "code",
        "colab": {
          "autoexec": {
            "startup": false,
            "wait_interval": 0
          },
          "base_uri": "https://localhost:8080/",
          "height": 1054
        },
        "outputId": "91b38ed4-f17b-4e78-8d91-7df09b6a59ce",
        "executionInfo": {
          "status": "ok",
          "timestamp": 1531850742571,
          "user_tz": -480,
          "elapsed": 8779,
          "user": {
            "displayName": "孫茂勛",
            "photoUrl": "//lh5.googleusercontent.com/-fwPNacY3FN8/AAAAAAAAAAI/AAAAAAAAKxo/Dxm12V3_B40/s50-c-k-no/photo.jpg",
            "userId": "101179967937215867417"
          }
        }
      },
      "cell_type": "code",
      "source": [
        "model.compile(loss='binary_crossentropy', optimizer = 'adam', metrics=['accuracy'])\n",
        "train_history = model.fit(x = train_Features, y = train_Label, validation_split=0.1, epochs=30, batch_size=30, verbose=2)"
      ],
      "execution_count": 0,
      "outputs": [
        {
          "output_type": "stream",
          "text": [
            "Train on 1178 samples, validate on 131 samples\n",
            "Epoch 1/30\n",
            " - 1s - loss: 0.6560 - acc: 0.5917 - val_loss: 0.5245 - val_acc: 0.7863\n",
            "Epoch 2/30\n",
            " - 0s - loss: 0.5877 - acc: 0.6570 - val_loss: 0.4645 - val_acc: 0.7863\n",
            "Epoch 3/30\n",
            " - 0s - loss: 0.5324 - acc: 0.7852 - val_loss: 0.4463 - val_acc: 0.8092\n",
            "Epoch 4/30\n",
            " - 0s - loss: 0.4961 - acc: 0.7852 - val_loss: 0.4264 - val_acc: 0.8092\n",
            "Epoch 5/30\n",
            " - 0s - loss: 0.4814 - acc: 0.7818 - val_loss: 0.4236 - val_acc: 0.8092\n",
            "Epoch 6/30\n",
            " - 0s - loss: 0.4733 - acc: 0.7844 - val_loss: 0.4182 - val_acc: 0.8092\n",
            "Epoch 7/30\n",
            " - 0s - loss: 0.4680 - acc: 0.7895 - val_loss: 0.4121 - val_acc: 0.8244\n",
            "Epoch 8/30\n",
            " - 0s - loss: 0.4639 - acc: 0.7895 - val_loss: 0.4166 - val_acc: 0.8168\n",
            "Epoch 9/30\n",
            " - 0s - loss: 0.4592 - acc: 0.7903 - val_loss: 0.4104 - val_acc: 0.8397\n",
            "Epoch 10/30\n",
            " - 0s - loss: 0.4571 - acc: 0.7852 - val_loss: 0.4085 - val_acc: 0.8397\n",
            "Epoch 11/30\n",
            " - 0s - loss: 0.4546 - acc: 0.7920 - val_loss: 0.4120 - val_acc: 0.8397\n",
            "Epoch 12/30\n",
            " - 0s - loss: 0.4530 - acc: 0.7946 - val_loss: 0.4088 - val_acc: 0.8397\n",
            "Epoch 13/30\n",
            " - 0s - loss: 0.4515 - acc: 0.7954 - val_loss: 0.4095 - val_acc: 0.8397\n",
            "Epoch 14/30\n",
            " - 0s - loss: 0.4496 - acc: 0.7929 - val_loss: 0.4090 - val_acc: 0.8397\n",
            "Epoch 15/30\n",
            " - 0s - loss: 0.4498 - acc: 0.7912 - val_loss: 0.4068 - val_acc: 0.8015\n",
            "Epoch 16/30\n",
            " - 0s - loss: 0.4484 - acc: 0.8014 - val_loss: 0.4062 - val_acc: 0.8397\n",
            "Epoch 17/30\n",
            " - 0s - loss: 0.4461 - acc: 0.7963 - val_loss: 0.4153 - val_acc: 0.8397\n",
            "Epoch 18/30\n",
            " - 0s - loss: 0.4459 - acc: 0.8014 - val_loss: 0.4052 - val_acc: 0.8321\n",
            "Epoch 19/30\n",
            " - 0s - loss: 0.4453 - acc: 0.8065 - val_loss: 0.4067 - val_acc: 0.8397\n",
            "Epoch 20/30\n",
            " - 0s - loss: 0.4441 - acc: 0.8065 - val_loss: 0.4107 - val_acc: 0.8397\n",
            "Epoch 21/30\n",
            " - 0s - loss: 0.4445 - acc: 0.8022 - val_loss: 0.4075 - val_acc: 0.8397\n",
            "Epoch 22/30\n",
            " - 0s - loss: 0.4426 - acc: 0.7997 - val_loss: 0.4067 - val_acc: 0.8397\n",
            "Epoch 23/30\n",
            " - 0s - loss: 0.4424 - acc: 0.8031 - val_loss: 0.4057 - val_acc: 0.8015\n",
            "Epoch 24/30\n",
            " - 0s - loss: 0.4424 - acc: 0.7997 - val_loss: 0.4052 - val_acc: 0.8397\n",
            "Epoch 25/30\n",
            " - 0s - loss: 0.4401 - acc: 0.8048 - val_loss: 0.4053 - val_acc: 0.8397\n",
            "Epoch 26/30\n",
            " - 0s - loss: 0.4410 - acc: 0.7954 - val_loss: 0.4057 - val_acc: 0.8092\n",
            "Epoch 27/30\n",
            " - 0s - loss: 0.4393 - acc: 0.8056 - val_loss: 0.4047 - val_acc: 0.8015\n",
            "Epoch 28/30\n",
            " - 0s - loss: 0.4419 - acc: 0.8081 - val_loss: 0.4063 - val_acc: 0.8321\n",
            "Epoch 29/30\n",
            " - 0s - loss: 0.4387 - acc: 0.8065 - val_loss: 0.4053 - val_acc: 0.8092\n",
            "Epoch 30/30\n",
            " - 0s - loss: 0.4378 - acc: 0.8048 - val_loss: 0.4100 - val_acc: 0.8397\n"
          ],
          "name": "stdout"
        }
      ]
    },
    {
      "metadata": {
        "id": "FZABjpV0Nnbl",
        "colab_type": "code",
        "colab": {
          "autoexec": {
            "startup": false,
            "wait_interval": 0
          },
          "base_uri": "https://localhost:8080/",
          "height": 314
        },
        "outputId": "58be08fd-8d9a-4d79-c484-99ae49bd7f01",
        "executionInfo": {
          "status": "ok",
          "timestamp": 1531850744061,
          "user_tz": -480,
          "elapsed": 1418,
          "user": {
            "displayName": "孫茂勛",
            "photoUrl": "//lh5.googleusercontent.com/-fwPNacY3FN8/AAAAAAAAAAI/AAAAAAAAKxo/Dxm12V3_B40/s50-c-k-no/photo.jpg",
            "userId": "101179967937215867417"
          }
        }
      },
      "cell_type": "code",
      "source": [
        "import matplotlib.pyplot as plt\n",
        "def show_history(train_history):\n",
        "  fig, (ax, ax1) = plt.subplots(1, 2)\n",
        "  fig.set_size_inches((20, 4))\n",
        "  ax.plot(train_history.history['acc'], label = 'train')\n",
        "  ax.plot(train_history.history['val_acc'], label ='validation')\n",
        "  ax.legend(loc=2)\n",
        "  ax.set_title('accuracy', color='r')\n",
        "  \n",
        "  ax1.plot(train_history.history['loss'], label = 'train')\n",
        "  ax1.plot(train_history.history['val_loss'], label ='validation')\n",
        "  ax1.legend(loc=1)\n",
        "  ax1.set_title('loss', color='r')\n",
        "  \n",
        "show_history(train_history)\n",
        "scores = model.evaluate(test_Features, test_Label, verbose=1)\n",
        "scores"
      ],
      "execution_count": 0,
      "outputs": [
        {
          "output_type": "stream",
          "text": [
            "1309/1309 [==============================] - 0s 61us/step\n"
          ],
          "name": "stdout"
        },
        {
          "output_type": "execute_result",
          "data": {
            "text/plain": [
              "[0.4345591517237874, 0.8082505730475242]"
            ]
          },
          "metadata": {
            "tags": []
          },
          "execution_count": 14
        },
        {
          "output_type": "display_data",
          "data": {
            "image/png": "[encoded data removed]",
            "text/plain": [
              "<matplotlib.figure.Figure at 0x7fbfbf0ac590>"
            ]
          },
          "metadata": {
            "tags": []
          }
        }
      ]
    },
    {
      "metadata": {
        "id": "Xe4LSLnCeNYv",
        "colab_type": "text"
      },
      "cell_type": "markdown",
      "source": [
        "## Observation"
      ]
    },
    {
      "metadata": {
        "id": "K_f-RlO7ZiO5",
        "colab_type": "code",
        "colab": {
          "autoexec": {
            "startup": false,
            "wait_interval": 0
          }
        }
      },
      "cell_type": "code",
      "source": [
        "all_Features, Label = PreprocessData(all_df)\n",
        "all_probability = model.predict(all_Features)\n",
        "all_df.insert(len(all_df.columns), 'probability', all_probability)"
      ],
      "execution_count": 0,
      "outputs": []
    },
    {
      "metadata": {
        "id": "YGcbA7GTaFnf",
        "colab_type": "code",
        "colab": {
          "autoexec": {
            "startup": false,
            "wait_interval": 0
          },
          "base_uri": "https://localhost:8080/",
          "height": 204
        },
        "outputId": "2dc8d2d5-39e9-45b0-ff10-4e85f0625f6d",
        "executionInfo": {
          "status": "ok",
          "timestamp": 1531850752469,
          "user_tz": -480,
          "elapsed": 705,
          "user": {
            "displayName": "孫茂勛",
            "photoUrl": "//lh5.googleusercontent.com/-fwPNacY3FN8/AAAAAAAAAAI/AAAAAAAAKxo/Dxm12V3_B40/s50-c-k-no/photo.jpg",
            "userId": "101179967937215867417"
          }
        }
      },
      "cell_type": "code",
      "source": [
        "all_df.head()"
      ],
      "execution_count": 0,
      "outputs": [
        {
          "output_type": "execute_result",
          "data": {
            "text/html": [
              "<div>\n",
              "<style scoped>\n",
              "    .dataframe tbody tr th:only-of-type {\n",
              "        vertical-align: middle;\n",
              "    }\n",
              "\n",
              "    .dataframe tbody tr th {\n",
              "        vertical-align: top;\n",
              "    }\n",
              "\n",
              "    .dataframe thead th {\n",
              "        text-align: right;\n",
              "    }\n",
              "</style>\n",
              "<table border=\"1\" class=\"dataframe\">\n",
              "  <thead>\n",
              "    <tr style=\"text-align: right;\">\n",
              "      <th></th>\n",
              "      <th>survived</th>\n",
              "      <th>name</th>\n",
              "      <th>pclass</th>\n",
              "      <th>sex</th>\n",
              "      <th>age</th>\n",
              "      <th>sibsp</th>\n",
              "      <th>parch</th>\n",
              "      <th>fare</th>\n",
              "      <th>embarked</th>\n",
              "      <th>probability</th>\n",
              "    </tr>\n",
              "  </thead>\n",
              "  <tbody>\n",
              "    <tr>\n",
              "      <th>0</th>\n",
              "      <td>1</td>\n",
              "      <td>Allen, Miss. Elisabeth Walton</td>\n",
              "      <td>1</td>\n",
              "      <td>female</td>\n",
              "      <td>29.0000</td>\n",
              "      <td>0</td>\n",
              "      <td>0</td>\n",
              "      <td>211.3375</td>\n",
              "      <td>S</td>\n",
              "      <td>0.977021</td>\n",
              "    </tr>\n",
              "    <tr>\n",
              "      <th>1</th>\n",
              "      <td>1</td>\n",
              "      <td>Allison, Master. Hudson Trevor</td>\n",
              "      <td>1</td>\n",
              "      <td>male</td>\n",
              "      <td>0.9167</td>\n",
              "      <td>1</td>\n",
              "      <td>2</td>\n",
              "      <td>151.5500</td>\n",
              "      <td>S</td>\n",
              "      <td>0.668193</td>\n",
              "    </tr>\n",
              "    <tr>\n",
              "      <th>2</th>\n",
              "      <td>0</td>\n",
              "      <td>Allison, Miss. Helen Loraine</td>\n",
              "      <td>1</td>\n",
              "      <td>female</td>\n",
              "      <td>2.0000</td>\n",
              "      <td>1</td>\n",
              "      <td>2</td>\n",
              "      <td>151.5500</td>\n",
              "      <td>S</td>\n",
              "      <td>0.976728</td>\n",
              "    </tr>\n",
              "    <tr>\n",
              "      <th>3</th>\n",
              "      <td>0</td>\n",
              "      <td>Allison, Mr. Hudson Joshua Creighton</td>\n",
              "      <td>1</td>\n",
              "      <td>male</td>\n",
              "      <td>30.0000</td>\n",
              "      <td>1</td>\n",
              "      <td>2</td>\n",
              "      <td>151.5500</td>\n",
              "      <td>S</td>\n",
              "      <td>0.380730</td>\n",
              "    </tr>\n",
              "    <tr>\n",
              "      <th>4</th>\n",
              "      <td>0</td>\n",
              "      <td>Allison, Mrs. Hudson J C (Bessie Waldo Daniels)</td>\n",
              "      <td>1</td>\n",
              "      <td>female</td>\n",
              "      <td>25.0000</td>\n",
              "      <td>1</td>\n",
              "      <td>2</td>\n",
              "      <td>151.5500</td>\n",
              "      <td>S</td>\n",
              "      <td>0.976196</td>\n",
              "    </tr>\n",
              "  </tbody>\n",
              "</table>\n",
              "</div>"
            ],
            "text/plain": [
              "   survived                                             name  pclass     sex  \\\n",
              "0         1                    Allen, Miss. Elisabeth Walton       1  female   \n",
              "1         1                   Allison, Master. Hudson Trevor       1    male   \n",
              "2         0                     Allison, Miss. Helen Loraine       1  female   \n",
              "3         0             Allison, Mr. Hudson Joshua Creighton       1    male   \n",
              "4         0  Allison, Mrs. Hudson J C (Bessie Waldo Daniels)       1  female   \n",
              "\n",
              "       age  sibsp  parch      fare embarked  probability  \n",
              "0  29.0000      0      0  211.3375        S     0.977021  \n",
              "1   0.9167      1      2  151.5500        S     0.668193  \n",
              "2   2.0000      1      2  151.5500        S     0.976728  \n",
              "3  30.0000      1      2  151.5500        S     0.380730  \n",
              "4  25.0000      1      2  151.5500        S     0.976196  "
            ]
          },
          "metadata": {
            "tags": []
          },
          "execution_count": 17
        }
      ]
    },
    {
      "metadata": {
        "id": "hFgEDDJDeWtG",
        "colab_type": "code",
        "colab": {
          "autoexec": {
            "startup": false,
            "wait_interval": 0
          },
          "base_uri": "https://localhost:8080/",
          "height": 34
        },
        "outputId": "f620005e-a501-4053-db72-f3906dc6e626",
        "executionInfo": {
          "status": "ok",
          "timestamp": 1531851666435,
          "user_tz": -480,
          "elapsed": 740,
          "user": {
            "displayName": "孫茂勛",
            "photoUrl": "//lh5.googleusercontent.com/-fwPNacY3FN8/AAAAAAAAAAI/AAAAAAAAKxo/Dxm12V3_B40/s50-c-k-no/photo.jpg",
            "userId": "101179967937215867417"
          }
        }
      },
      "cell_type": "code",
      "source": [
        "# 女生的生存數量比較多，因為當初女性優先\n",
        "print( len(all_df[ (all_df['survived'] == 1) & (all_df['sex']=='male') ]) ,  len(all_df[ (all_df['survived'] == 1) & (all_df['sex']=='female') ]))"
      ],
      "execution_count": 0,
      "outputs": [
        {
          "output_type": "stream",
          "text": [
            "(161, 339)\n"
          ],
          "name": "stdout"
        }
      ]
    },
    {
      "metadata": {
        "id": "4FOVPYZDa0XX",
        "colab_type": "code",
        "colab": {
          "autoexec": {
            "startup": false,
            "wait_interval": 0
          },
          "base_uri": "https://localhost:8080/",
          "height": 204
        },
        "outputId": "46fb3c76-5ba5-4abf-aa9e-69c2054bacef",
        "executionInfo": {
          "status": "ok",
          "timestamp": 1531850952996,
          "user_tz": -480,
          "elapsed": 947,
          "user": {
            "displayName": "孫茂勛",
            "photoUrl": "//lh5.googleusercontent.com/-fwPNacY3FN8/AAAAAAAAAAI/AAAAAAAAKxo/Dxm12V3_B40/s50-c-k-no/photo.jpg",
            "userId": "101179967937215867417"
          }
        }
      },
      "cell_type": "code",
      "source": [
        "# Find who survived probability > 0.9 but still not survived\n",
        "all_df[ (all_df['survived'] == 0) & (all_df['probability'] > 0.9) ]"
      ],
      "execution_count": 0,
      "outputs": [
        {
          "output_type": "execute_result",
          "data": {
            "text/html": [
              "<div>\n",
              "<style scoped>\n",
              "    .dataframe tbody tr th:only-of-type {\n",
              "        vertical-align: middle;\n",
              "    }\n",
              "\n",
              "    .dataframe tbody tr th {\n",
              "        vertical-align: top;\n",
              "    }\n",
              "\n",
              "    .dataframe thead th {\n",
              "        text-align: right;\n",
              "    }\n",
              "</style>\n",
              "<table border=\"1\" class=\"dataframe\">\n",
              "  <thead>\n",
              "    <tr style=\"text-align: right;\">\n",
              "      <th></th>\n",
              "      <th>survived</th>\n",
              "      <th>name</th>\n",
              "      <th>pclass</th>\n",
              "      <th>sex</th>\n",
              "      <th>age</th>\n",
              "      <th>sibsp</th>\n",
              "      <th>parch</th>\n",
              "      <th>fare</th>\n",
              "      <th>embarked</th>\n",
              "      <th>probability</th>\n",
              "    </tr>\n",
              "  </thead>\n",
              "  <tbody>\n",
              "    <tr>\n",
              "      <th>2</th>\n",
              "      <td>0</td>\n",
              "      <td>Allison, Miss. Helen Loraine</td>\n",
              "      <td>1</td>\n",
              "      <td>female</td>\n",
              "      <td>2.0</td>\n",
              "      <td>1</td>\n",
              "      <td>2</td>\n",
              "      <td>151.5500</td>\n",
              "      <td>S</td>\n",
              "      <td>0.976728</td>\n",
              "    </tr>\n",
              "    <tr>\n",
              "      <th>4</th>\n",
              "      <td>0</td>\n",
              "      <td>Allison, Mrs. Hudson J C (Bessie Waldo Daniels)</td>\n",
              "      <td>1</td>\n",
              "      <td>female</td>\n",
              "      <td>25.0</td>\n",
              "      <td>1</td>\n",
              "      <td>2</td>\n",
              "      <td>151.5500</td>\n",
              "      <td>S</td>\n",
              "      <td>0.976196</td>\n",
              "    </tr>\n",
              "    <tr>\n",
              "      <th>105</th>\n",
              "      <td>0</td>\n",
              "      <td>Evans, Miss. Edith Corse</td>\n",
              "      <td>1</td>\n",
              "      <td>female</td>\n",
              "      <td>36.0</td>\n",
              "      <td>0</td>\n",
              "      <td>0</td>\n",
              "      <td>31.6792</td>\n",
              "      <td>C</td>\n",
              "      <td>0.983485</td>\n",
              "    </tr>\n",
              "    <tr>\n",
              "      <th>169</th>\n",
              "      <td>0</td>\n",
              "      <td>Isham, Miss. Ann Elizabeth</td>\n",
              "      <td>1</td>\n",
              "      <td>female</td>\n",
              "      <td>50.0</td>\n",
              "      <td>0</td>\n",
              "      <td>0</td>\n",
              "      <td>28.7125</td>\n",
              "      <td>C</td>\n",
              "      <td>0.978377</td>\n",
              "    </tr>\n",
              "    <tr>\n",
              "      <th>286</th>\n",
              "      <td>0</td>\n",
              "      <td>Straus, Mrs. Isidor (Rosalie Ida Blun)</td>\n",
              "      <td>1</td>\n",
              "      <td>female</td>\n",
              "      <td>63.0</td>\n",
              "      <td>1</td>\n",
              "      <td>0</td>\n",
              "      <td>221.7792</td>\n",
              "      <td>S</td>\n",
              "      <td>0.937352</td>\n",
              "    </tr>\n",
              "  </tbody>\n",
              "</table>\n",
              "</div>"
            ],
            "text/plain": [
              "     survived                                             name  pclass  \\\n",
              "2           0                     Allison, Miss. Helen Loraine       1   \n",
              "4           0  Allison, Mrs. Hudson J C (Bessie Waldo Daniels)       1   \n",
              "105         0                         Evans, Miss. Edith Corse       1   \n",
              "169         0                       Isham, Miss. Ann Elizabeth       1   \n",
              "286         0           Straus, Mrs. Isidor (Rosalie Ida Blun)       1   \n",
              "\n",
              "        sex   age  sibsp  parch      fare embarked  probability  \n",
              "2    female   2.0      1      2  151.5500        S     0.976728  \n",
              "4    female  25.0      1      2  151.5500        S     0.976196  \n",
              "105  female  36.0      0      0   31.6792        C     0.983485  \n",
              "169  female  50.0      0      0   28.7125        C     0.978377  \n",
              "286  female  63.0      1      0  221.7792        S     0.937352  "
            ]
          },
          "metadata": {
            "tags": []
          },
          "execution_count": 28
        }
      ]
    },
    {
      "metadata": {
        "id": "CjvSWe5YcPef",
        "colab_type": "code",
        "colab": {
          "autoexec": {
            "startup": false,
            "wait_interval": 0
          },
          "base_uri": "https://localhost:8080/",
          "height": 173
        },
        "outputId": "0ba6d9c8-7fba-4c30-d1c2-a236533d7386",
        "executionInfo": {
          "status": "ok",
          "timestamp": 1531851229790,
          "user_tz": -480,
          "elapsed": 698,
          "user": {
            "displayName": "孫茂勛",
            "photoUrl": "//lh5.googleusercontent.com/-fwPNacY3FN8/AAAAAAAAAAI/AAAAAAAAKxo/Dxm12V3_B40/s50-c-k-no/photo.jpg",
            "userId": "101179967937215867417"
          }
        }
      },
      "cell_type": "code",
      "source": [
        "# In above code cell, we find the fact that Allison Family have high survived probability but still died, we want to figure out the reason. \n",
        "# 真實故事中，Allision全家為了尋找未滿一歲的嬰兒而不願搭乘救生艇而沈船，所幸最後嬰兒被其他人救出\n",
        "Is_Allison_Family = all_df['name'].str.contains('Allison')\n",
        "all_df[Is_Allison_Family]"
      ],
      "execution_count": 0,
      "outputs": [
        {
          "output_type": "execute_result",
          "data": {
            "text/html": [
              "<div>\n",
              "<style scoped>\n",
              "    .dataframe tbody tr th:only-of-type {\n",
              "        vertical-align: middle;\n",
              "    }\n",
              "\n",
              "    .dataframe tbody tr th {\n",
              "        vertical-align: top;\n",
              "    }\n",
              "\n",
              "    .dataframe thead th {\n",
              "        text-align: right;\n",
              "    }\n",
              "</style>\n",
              "<table border=\"1\" class=\"dataframe\">\n",
              "  <thead>\n",
              "    <tr style=\"text-align: right;\">\n",
              "      <th></th>\n",
              "      <th>survived</th>\n",
              "      <th>name</th>\n",
              "      <th>pclass</th>\n",
              "      <th>sex</th>\n",
              "      <th>age</th>\n",
              "      <th>sibsp</th>\n",
              "      <th>parch</th>\n",
              "      <th>fare</th>\n",
              "      <th>embarked</th>\n",
              "      <th>probability</th>\n",
              "    </tr>\n",
              "  </thead>\n",
              "  <tbody>\n",
              "    <tr>\n",
              "      <th>1</th>\n",
              "      <td>1</td>\n",
              "      <td>Allison, Master. Hudson Trevor</td>\n",
              "      <td>1</td>\n",
              "      <td>male</td>\n",
              "      <td>0.9167</td>\n",
              "      <td>1</td>\n",
              "      <td>2</td>\n",
              "      <td>151.55</td>\n",
              "      <td>S</td>\n",
              "      <td>0.668193</td>\n",
              "    </tr>\n",
              "    <tr>\n",
              "      <th>2</th>\n",
              "      <td>0</td>\n",
              "      <td>Allison, Miss. Helen Loraine</td>\n",
              "      <td>1</td>\n",
              "      <td>female</td>\n",
              "      <td>2.0000</td>\n",
              "      <td>1</td>\n",
              "      <td>2</td>\n",
              "      <td>151.55</td>\n",
              "      <td>S</td>\n",
              "      <td>0.976728</td>\n",
              "    </tr>\n",
              "    <tr>\n",
              "      <th>3</th>\n",
              "      <td>0</td>\n",
              "      <td>Allison, Mr. Hudson Joshua Creighton</td>\n",
              "      <td>1</td>\n",
              "      <td>male</td>\n",
              "      <td>30.0000</td>\n",
              "      <td>1</td>\n",
              "      <td>2</td>\n",
              "      <td>151.55</td>\n",
              "      <td>S</td>\n",
              "      <td>0.380730</td>\n",
              "    </tr>\n",
              "    <tr>\n",
              "      <th>4</th>\n",
              "      <td>0</td>\n",
              "      <td>Allison, Mrs. Hudson J C (Bessie Waldo Daniels)</td>\n",
              "      <td>1</td>\n",
              "      <td>female</td>\n",
              "      <td>25.0000</td>\n",
              "      <td>1</td>\n",
              "      <td>2</td>\n",
              "      <td>151.55</td>\n",
              "      <td>S</td>\n",
              "      <td>0.976196</td>\n",
              "    </tr>\n",
              "  </tbody>\n",
              "</table>\n",
              "</div>"
            ],
            "text/plain": [
              "   survived                                             name  pclass     sex  \\\n",
              "1         1                   Allison, Master. Hudson Trevor       1    male   \n",
              "2         0                     Allison, Miss. Helen Loraine       1  female   \n",
              "3         0             Allison, Mr. Hudson Joshua Creighton       1    male   \n",
              "4         0  Allison, Mrs. Hudson J C (Bessie Waldo Daniels)       1  female   \n",
              "\n",
              "       age  sibsp  parch    fare embarked  probability  \n",
              "1   0.9167      1      2  151.55        S     0.668193  \n",
              "2   2.0000      1      2  151.55        S     0.976728  \n",
              "3  30.0000      1      2  151.55        S     0.380730  \n",
              "4  25.0000      1      2  151.55        S     0.976196  "
            ]
          },
          "metadata": {
            "tags": []
          },
          "execution_count": 33
        }
      ]
    }
  ]
}